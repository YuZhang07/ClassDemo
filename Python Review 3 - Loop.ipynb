{
 "cells": [
  {
   "cell_type": "code",
   "execution_count": 1,
   "metadata": {},
   "outputs": [
    {
     "name": "stdout",
     "output_type": "stream",
     "text": [
      "Enter a number: \n",
      "1\n",
      "Continue loop: y for yes, n for n:y\n",
      "Enter a number: \n",
      "2\n",
      "Continue loop: y for yes, n for n:y\n",
      "Enter a number: \n",
      "3\n",
      "Continue loop: y for yes, n for n:n\n",
      "total=  6\n"
     ]
    }
   ],
   "source": [
    "# Ch04 - loop\n",
    "\n",
    "# Program 4-1\n",
    "flag = 'y'\n",
    "count = 0;\n",
    "total = 0;\n",
    "\n",
    "while flag != 'n':\n",
    "    count = int(input('Enter a number: \\n'))\n",
    "    total += count\n",
    "    flag = input('Continue loop？: y for yes, n for n:')\n",
    "\n",
    "print('total= ', total)"
   ]
  },
  {
   "cell_type": "code",
   "execution_count": 6,
   "metadata": {},
   "outputs": [
    {
     "name": "stdout",
     "output_type": "stream",
     "text": [
      "count: 10\n",
      "count: 8\n",
      "count: 6\n",
      "count: 4\n",
      "count: 2\n"
     ]
    }
   ],
   "source": [
    "# while loop\n",
    "#----------------------\n",
    "count = 10\n",
    "\n",
    "while count > 0:\n",
    "    print ('count:', count)\n",
    "    count = count-2"
   ]
  },
  {
   "cell_type": "code",
   "execution_count": 7,
   "metadata": {},
   "outputs": [
    {
     "name": "stdout",
     "output_type": "stream",
     "text": [
      "count:  0\n",
      "count:  5\n",
      "count:  10\n",
      "count:  15\n",
      "count:  20\n"
     ]
    }
   ],
   "source": [
    "count = 0\n",
    "\n",
    "while count <= 20:\n",
    "    print ('count: ', count)\n",
    "    count = count + 5"
   ]
  },
  {
   "cell_type": "code",
   "execution_count": 8,
   "metadata": {},
   "outputs": [
    {
     "name": "stdout",
     "output_type": "stream",
     "text": [
      "loop 1 loop 3 loop 5 "
     ]
    }
   ],
   "source": [
    "# use in [ n,  ,  , ]\n",
    "\n",
    "for num in [1,3,5]:\n",
    "    print('loop' , num, end=' ')"
   ]
  },
  {
   "cell_type": "code",
   "execution_count": 9,
   "metadata": {},
   "outputs": [
    {
     "name": "stdout",
     "output_type": "stream",
     "text": [
      "loop 1\n",
      "loop 3\n",
      "loop 5\n"
     ]
    }
   ],
   "source": [
    "for num in [1,3,5]:\n",
    "    print('loop' , num)"
   ]
  },
  {
   "cell_type": "code",
   "execution_count": 10,
   "metadata": {},
   "outputs": [
    {
     "name": "stdout",
     "output_type": "stream",
     "text": [
      "CI101\n",
      "CI213\n",
      "CI215\n",
      "CI245\n"
     ]
    }
   ],
   "source": [
    "for name in ['CI101', 'CI213','CI215','CI245']:\n",
    "    print(name)"
   ]
  },
  {
   "cell_type": "code",
   "execution_count": 11,
   "metadata": {},
   "outputs": [
    {
     "name": "stdout",
     "output_type": "stream",
     "text": [
      "0\t 1\t 2\t 3\t 4\t "
     ]
    }
   ],
   "source": [
    "# range(n) :  0 to n-1\n",
    "\n",
    "for num in range(5):\n",
    "    print(num,end='\\t ')"
   ]
  },
  {
   "cell_type": "code",
   "execution_count": 14,
   "metadata": {},
   "outputs": [
    {
     "name": "stdout",
     "output_type": "stream",
     "text": [
      "1\n",
      "2\n",
      "3\n",
      "4\n",
      "5\n",
      "6\n",
      "7\n",
      "8\n",
      "9\n",
      "10\n"
     ]
    }
   ],
   "source": [
    "NUM = 10\n",
    "for num in range(1, NUM+1):\n",
    "    print(num)"
   ]
  },
  {
   "cell_type": "code",
   "execution_count": 16,
   "metadata": {},
   "outputs": [
    {
     "name": "stdout",
     "output_type": "stream",
     "text": [
      "1\t3\t5\t7\t9\t"
     ]
    }
   ],
   "source": [
    "NUM = 10\n",
    "for num in range(1, NUM+1,2):\n",
    "    print(num, end ='\\t')"
   ]
  },
  {
   "cell_type": "code",
   "execution_count": 19,
   "metadata": {},
   "outputs": [
    {
     "name": "stdout",
     "output_type": "stream",
     "text": [
      "0\t10\t20\t30\t40\t50\t60\t70\t80\t90\t\n",
      "----------------------\n",
      "0\t10\t20\t30\t40\t50\t60\t70\t80\t90\t100\t"
     ]
    }
   ],
   "source": [
    "for num in range(0,100,10):\n",
    "     print(num,end='\\t')\n",
    "print('\\n----------------------')    \n",
    "for num in range(0,101,10):\n",
    "     print(num,end='\\t')"
   ]
  },
  {
   "cell_type": "code",
   "execution_count": 20,
   "metadata": {},
   "outputs": [
    {
     "name": "stdout",
     "output_type": "stream",
     "text": [
      "0 \t 0\n",
      "5 \t 25\n",
      "10 \t 100\n",
      "15 \t 225\n"
     ]
    }
   ],
   "source": [
    "for num in range(0,20,5):\n",
    "     print(num,'\\t',num**2)"
   ]
  },
  {
   "cell_type": "code",
   "execution_count": 35,
   "metadata": {},
   "outputs": [
    {
     "name": "stdout",
     "output_type": "stream",
     "text": [
      "20 \t\n",
      "15 \t\n",
      "10 \t\n",
      "5 \t\n"
     ]
    }
   ],
   "source": [
    "for num in range(20,0,-5):\n",
    "     print(num,'\\t')"
   ]
  },
  {
   "cell_type": "code",
   "execution_count": 21,
   "metadata": {},
   "outputs": [
    {
     "name": "stdout",
     "output_type": "stream",
     "text": [
      "30 \t 18.0\n",
      "40 \t 24.0\n",
      "50 \t 30.0\n",
      "60 \t 36.0\n",
      "70 \t 42.0\n",
      "80 \t 48.0\n",
      "90 \t 54.0\n",
      "100 \t 60.0\n",
      "110 \t 66.0\n",
      "120 \t 72.0\n",
      "130 \t 78.0\n"
     ]
    }
   ],
   "source": [
    "#Program 4-9\n",
    "START = 30\n",
    "END = 131\n",
    "CONV = 0.6\n",
    "\n",
    "for kph in range(START,END,10):\n",
    "    mph = kph*CONV\n",
    "    print(kph, '\\t', format(mph,'.1f'))"
   ]
  },
  {
   "cell_type": "code",
   "execution_count": 28,
   "metadata": {},
   "outputs": [
    {
     "name": "stdout",
     "output_type": "stream",
     "text": [
      "0 0 0 \n",
      "1 1 1 \n",
      "2 2 2 \n",
      "3 3 3 \n",
      "4 4 4 \n"
     ]
    }
   ],
   "source": [
    "# Nested loop\n",
    "for row in range(5):\n",
    "    for col in range(3):\n",
    "        print (row, end=' ')\n",
    "    print()"
   ]
  },
  {
   "cell_type": "code",
   "execution_count": 29,
   "metadata": {},
   "outputs": [
    {
     "name": "stdout",
     "output_type": "stream",
     "text": [
      "0 1 2 \n",
      "0 1 2 \n",
      "0 1 2 \n",
      "0 1 2 \n",
      "0 1 2 \n"
     ]
    }
   ],
   "source": [
    "for row in range(5):\n",
    "    for col in range(3):\n",
    "        print (col, end=' ')\n",
    "    print()"
   ]
  },
  {
   "cell_type": "code",
   "execution_count": 30,
   "metadata": {},
   "outputs": [
    {
     "name": "stdout",
     "output_type": "stream",
     "text": [
      "\n",
      "----------------------\n",
      "1 2 3 4 \n",
      "2 4 6 8 \n"
     ]
    }
   ],
   "source": [
    "print('\\n----------------------')\n",
    "for row in range(1,3):     # how many rows? 1,2\n",
    "    for col in range(1,5):       # 1,2,3,4\n",
    "        print (col*row, end=' ')\n",
    "    print()                          #use indentation for outer loop"
   ]
  },
  {
   "cell_type": "code",
   "execution_count": null,
   "metadata": {},
   "outputs": [],
   "source": []
  },
  {
   "cell_type": "code",
   "execution_count": null,
   "metadata": {},
   "outputs": [],
   "source": [
    "#vs.\n",
    "print('\\n----------------------')\n",
    "for row in range(1,3):\n",
    "    for col in range(1,5):\n",
    "        print (col*row, end=' ')\n",
    "        print()                     # inner loop"
   ]
  },
  {
   "cell_type": "code",
   "execution_count": 14,
   "metadata": {},
   "outputs": [],
   "source": []
  }
 ],
 "metadata": {
  "kernelspec": {
   "display_name": "Python 3",
   "language": "python",
   "name": "python3"
  },
  "language_info": {
   "codemirror_mode": {
    "name": "ipython",
    "version": 3
   },
   "file_extension": ".py",
   "mimetype": "text/x-python",
   "name": "python",
   "nbconvert_exporter": "python",
   "pygments_lexer": "ipython3",
   "version": "3.7.3"
  }
 },
 "nbformat": 4,
 "nbformat_minor": 2
}
