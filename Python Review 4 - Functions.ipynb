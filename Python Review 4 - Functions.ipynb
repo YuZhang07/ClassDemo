{
 "cells": [
  {
   "cell_type": "code",
   "execution_count": null,
   "metadata": {},
   "outputs": [],
   "source": [
    "# Ch05 function\n",
    "#Program 5-1\n",
    "\n",
    "#Define a function\n",
    "def message():\n",
    "    for x in range(5):\n",
    "        print('Hello, world')\n",
    "\n",
    "#Invoke the fuction\n",
    "message()\n",
    "print('--')\n",
    "message()"
   ]
  },
  {
   "cell_type": "code",
   "execution_count": null,
   "metadata": {},
   "outputs": [],
   "source": [
    "#Define a function\n",
    "def message(n):\n",
    "    for x in range(n):\n",
    "        print('Hello, world')\n",
    "\n",
    "#Invoke the fuction\n",
    "num = 10\n",
    "message(num)"
   ]
  },
  {
   "cell_type": "code",
   "execution_count": null,
   "metadata": {},
   "outputs": [],
   "source": [
    "# Find out the total of 1, 2, 3, 4, ...100\n",
    "#Define a function\n",
    "def findTotal(num):\n",
    "    sum = 0\n",
    "    for n in range(1,num+1):\n",
    "        sum = sum + n\n",
    "    return sum\n",
    "\n",
    "#Invoke the fuction\n",
    "num = 100\n",
    "total = findTotal(num)\n",
    "print('Total = ', total)"
   ]
  },
  {
   "cell_type": "code",
   "execution_count": 4,
   "metadata": {},
   "outputs": [
    {
     "name": "stdout",
     "output_type": "stream",
     "text": [
      "Test\n",
      "Start function\n",
      "0 1 2 3 4 -\n"
     ]
    }
   ],
   "source": [
    "# Example\n",
    "def display():\n",
    "    print('Start function')\n",
    "    for x in range(0,5):\n",
    "        print(x,end=' ')\n",
    "    print('-')          # inside function, but not inside loop\n",
    "print('Test')        # outside function\n",
    "\n",
    "# Invoke the function\n",
    "display()"
   ]
  },
  {
   "cell_type": "code",
   "execution_count": 3,
   "metadata": {},
   "outputs": [
    {
     "name": "stdout",
     "output_type": "stream",
     "text": [
      "Start function\n",
      "0 1 2 3 4 -\n",
      "Test\n"
     ]
    }
   ],
   "source": [
    "# Example\n",
    "def display():\n",
    "    print('Start function')\n",
    "    for x in range(0,5):\n",
    "        print(x,end=' ')\n",
    "    print('-')          # inside function, but not inside loop\n",
    "    print('Test')        # inside function\n",
    "\n",
    "# Invoke the function\n",
    "display()"
   ]
  },
  {
   "cell_type": "code",
   "execution_count": 2,
   "metadata": {},
   "outputs": [
    {
     "name": "stdout",
     "output_type": "stream",
     "text": [
      "0 1 2 3 4 \n",
      "\n",
      "---------------\n",
      "in main\n",
      "0 1 2 3 4 \n",
      "0 1 2 3 4 \n",
      "0 1 2 3 4 \n",
      "0 1 2 3 4 \n",
      "0 1 2 3 4 \n"
     ]
    }
   ],
   "source": [
    "#Program 5-2\n",
    "def main():\n",
    "    print('in main')\n",
    "    for x in range(5):\n",
    "        message()     # invoke message function\n",
    "        \n",
    "def message():\n",
    "    for x in range(5):\n",
    "        print(x, end=' ')\n",
    "    print()\n",
    "\n",
    "#Invoke functions\n",
    "message()\n",
    "print('\\n---------------')\n",
    "main()"
   ]
  },
  {
   "cell_type": "code",
   "execution_count": 1,
   "metadata": {},
   "outputs": [
    {
     "name": "stdout",
     "output_type": "stream",
     "text": [
      "in main 2\n",
      "final num =  8\n"
     ]
    }
   ],
   "source": [
    "# Pass by value\n",
    "#Program 5-10\n",
    "def main():\n",
    "    num = 2\n",
    "    print('in main',num)\n",
    "    \n",
    "\n",
    "def funMethod(num):\n",
    "    num = 2*num\n",
    "    return num\n",
    "\n",
    "#Invoke fuction\n",
    "main()\n",
    "print('final num = ',funMethod(4))"
   ]
  },
  {
   "cell_type": "code",
   "execution_count": null,
   "metadata": {},
   "outputs": [],
   "source": [
    "funMethod(4)"
   ]
  },
  {
   "cell_type": "code",
   "execution_count": null,
   "metadata": {},
   "outputs": [],
   "source": [
    "# Use global constants and return value\n",
    "#Program 5-15 && 5-22\n",
    "\n",
    "CONTRIBUTION_RATE = 0.1\n",
    "\n",
    "def main():\n",
    "    income = 2000\n",
    "    print('Enter your contribution choice:')\n",
    "    option =input( 'R for regular; D for double:')\n",
    "    \n",
    "    if option == 'R' or option == 'r':\n",
    "        income = funMethod(income)\n",
    "    elif option =='D' or option == 'd':\n",
    "        income = doubleContribution(income)\n",
    "    else:\n",
    "        print('Not valid input')\n",
    "        \n",
    "    print('in main',income)\n",
    "    \n",
    "\n",
    "def funMethod(x):\n",
    "    x = x * (1-CONTRIBUTION_RATE)\n",
    "    print('inside method ', x)\n",
    "    return x\n",
    "\n",
    "def doubleContribution(x):\n",
    "    x = x * (1-2*CONTRIBUTION_RATE)\n",
    "    print('inside method ', x)\n",
    "    return x\n",
    "    \n",
    "main()"
   ]
  },
  {
   "cell_type": "code",
   "execution_count": 8,
   "metadata": {},
   "outputs": [
    {
     "name": "stdout",
     "output_type": "stream",
     "text": [
      "1 5 2 3 5 3 0 0 2 1 1 4 2 0 4 2 3 5 4 4 "
     ]
    }
   ],
   "source": [
    "# Use random.randint\n",
    "#import random\n",
    "\n",
    "for x in range(0,20):     \n",
    "    num = random.randint(0,5)  # <- include 0 and 5\n",
    "    print(num, end=' ')\n",
    "\n"
   ]
  },
  {
   "cell_type": "code",
   "execution_count": 9,
   "metadata": {},
   "outputs": [
    {
     "name": "stdout",
     "output_type": "stream",
     "text": [
      "8 6 6 4 3 6 4 10 2 5 2 2 3 3 4 10 6 1 10 4 "
     ]
    }
   ],
   "source": [
    "# loop 20 times\n",
    "for x in range(0,20):         \n",
    "    num = random.randint(1,10)  # include 1, 10\n",
    "    print(num, end=' ')"
   ]
  },
  {
   "cell_type": "code",
   "execution_count": 10,
   "metadata": {},
   "outputs": [
    {
     "name": "stdout",
     "output_type": "stream",
     "text": [
      "\n",
      "----------\n",
      "31 14 18 91 15 10 54 30 42 28 53 2 68 35 7 78 40 30 57 30 "
     ]
    }
   ],
   "source": [
    "print('\\n----------')\n",
    "for x in range(0,20):     \n",
    "    num = random.randint(1,100)\n",
    "    print(num, end=' ')"
   ]
  },
  {
   "cell_type": "code",
   "execution_count": 12,
   "metadata": {},
   "outputs": [
    {
     "name": "stdout",
     "output_type": "stream",
     "text": [
      "8 7 8 6 7 6 2 3 5 4 2 4 7 8 1 3 6 4 4 2 \n",
      "22 51 19 42 51 14 81 20 10 17 100 32 99 25 42 9 53 9 53 93 \n",
      "64 87 85 69 50 60 97 53 50 77 82 56 96 93 97 72 85 71 89 95 "
     ]
    }
   ],
   "source": [
    "\n",
    "# Program 5-16 to 5-18\n",
    "import random\n",
    "    \n",
    "def show_1(x):\n",
    "    for x in range(0,x):     \n",
    "        num = random.randint(1,10)\n",
    "        print(num, end=' ')\n",
    "        \n",
    "def show_2(x):\n",
    "    for x in range(0,x):\n",
    "        print(random.randint(1,100), end=' ')\n",
    "\n",
    "def show_3(x):\n",
    "    for x in range(0,x):\n",
    "        num = random.randint(50,100)\n",
    "        print(num, end=' ')\n",
    "\n",
    "# Start program here        \n",
    "x = 20\n",
    "show_1(x)\n",
    "\n",
    "print()\n",
    "show_2(x)\n",
    "\n",
    "print()\n",
    "show_3(x)\n",
    "\n"
   ]
  },
  {
   "cell_type": "code",
   "execution_count": 13,
   "metadata": {},
   "outputs": [
    {
     "name": "stdout",
     "output_type": "stream",
     "text": [
      "7 2 4 2 6 5 5 5 9 4 3 4 5 6 6 8 4 10 3 7 \n",
      "83 7 56 53 66 66 53 6 47 89 77 39 56 63 99 26 22 81 32 25 \n",
      "91 90 70 97 88 100 82 67 75 55 78 94 93 72 90 78 63 66 81 52 "
     ]
    }
   ],
   "source": [
    "# Program 5-16 to 5-18\n",
    "import random\n",
    "    \n",
    "def show_1(x):\n",
    "    for x in range(0,x):     \n",
    "        num = random.randint(1,10)\n",
    "        print(num, end=' ')\n",
    "        \n",
    "def show_2(x):\n",
    "    for x in range(0,x):\n",
    "        print(random.randint(1,100), end=' ')\n",
    "\n",
    "def show_3(x):\n",
    "    for x in range(0,x):\n",
    "        num = random.randint(50,100)\n",
    "        print(num, end=' ')\n",
    "\n",
    "       \n",
    "def main():\n",
    "    x = 20\n",
    "    show_1(x)\n",
    "    print()\n",
    "    show_2(x)\n",
    "\n",
    "    print()\n",
    "    show_3(x)\n",
    "\n",
    "# Start program here \n",
    "main()"
   ]
  },
  {
   "cell_type": "code",
   "execution_count": 14,
   "metadata": {},
   "outputs": [
    {
     "name": "stdout",
     "output_type": "stream",
     "text": [
      "2 8 2 9 7 1 5 8 7 6 "
     ]
    }
   ],
   "source": [
    "import random\n",
    "\n",
    "# function not return any value\n",
    "def show(x):\n",
    "    for x in range(0,x):     \n",
    "        num = random.randint(1,10)\n",
    "        print(num, end=' ')\n",
    "\n",
    "show(10)"
   ]
  },
  {
   "cell_type": "code",
   "execution_count": null,
   "metadata": {},
   "outputs": [],
   "source": [
    "\n",
    "# function return one value\n",
    "def show(x):\n",
    "    sum = 0 ;\n",
    "    for x in range(0,x):\n",
    "        num = random.randint(1,10)\n",
    "        print(num, end=' ')\n",
    "        sum += num\n",
    "    \n",
    "    return sum\n",
    "\n",
    "show(10)"
   ]
  },
  {
   "cell_type": "code",
   "execution_count": 15,
   "metadata": {},
   "outputs": [
    {
     "name": "stdout",
     "output_type": "stream",
     "text": [
      "3 9 9\n"
     ]
    }
   ],
   "source": [
    "\n",
    "# function returns three values\n",
    "def fun(x):\n",
    "    return x, x*x, x**2\n",
    "\n",
    "# Call function\n",
    "a, b, c = fun(3)\n",
    "\n",
    "print(a, b, c)"
   ]
  },
  {
   "cell_type": "code",
   "execution_count": null,
   "metadata": {},
   "outputs": [],
   "source": [
    "# return multiple values\n",
    "def main():\n",
    "    one, two, three = foo()\n",
    "    print(foo())\n",
    "    print(one, two, three)\n",
    "\n",
    "def foo():\n",
    "    return 1, 2, 3\n",
    "\n",
    "main()"
   ]
  },
  {
   "cell_type": "code",
   "execution_count": null,
   "metadata": {},
   "outputs": [],
   "source": [
    "# Use functions in the math modele\n",
    "# \n",
    "import math\n",
    "print(math.floor(3.9))\n",
    "print(math.ceil(4.1))\n",
    "print(math.log10(100))"
   ]
  },
  {
   "cell_type": "markdown",
   "metadata": {},
   "source": [
    "\n",
    "Problem 4: Sales Commission\n",
    "\n",
    "Create function :\n",
    "to get monthly sales\n",
    "getCommission"
   ]
  },
  {
   "cell_type": "code",
   "execution_count": null,
   "metadata": {},
   "outputs": [
    {
     "name": "stdout",
     "output_type": "stream",
     "text": [
      "Enter the monthly sales: 4000\n",
      "The commission is $ 400.0\n",
      "Enter the monthly sales: 5000\n",
      "The commission is $ 600.0\n",
      "Enter the monthly sales: 10000\n",
      "The commission is $ 1500.0\n",
      "Enter the monthly sales: 20000\n",
      "The commission is $ 4000.0\n"
     ]
    }
   ],
   "source": [
    "# Program 5-23\n",
    "\n",
    "def main(num):\n",
    "    for n in range(num):\n",
    "        sales = float(input('Enter the monthly sales: '))\n",
    "        commission = getCommission(sales)\n",
    "        print('The commission is $',commission)\n",
    "        \n",
    "    \n",
    "def getCommission(sales):\n",
    "    if sales < 5000:\n",
    "        rate = 0.1\n",
    "    elif sales < 10000:\n",
    "        rate = 0.12\n",
    "    elif sales < 15000:\n",
    "        rate = 0.15\n",
    "    elif sales < 20000:\n",
    "        rate = 0.18\n",
    "    else:\n",
    "        rate = 0.20\n",
    "    \n",
    "    return rate*sales\n",
    "   \n",
    "\n",
    "# Call main function\n",
    "num = 5\n",
    "main(num)"
   ]
  }
 ],
 "metadata": {
  "kernelspec": {
   "display_name": "Python 3",
   "language": "python",
   "name": "python3"
  },
  "language_info": {
   "codemirror_mode": {
    "name": "ipython",
    "version": 3
   },
   "file_extension": ".py",
   "mimetype": "text/x-python",
   "name": "python",
   "nbconvert_exporter": "python",
   "pygments_lexer": "ipython3",
   "version": "3.7.3"
  }
 },
 "nbformat": 4,
 "nbformat_minor": 2
}
