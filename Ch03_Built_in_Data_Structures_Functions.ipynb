{
 "cells": [
  {
   "cell_type": "code",
   "execution_count": 20,
   "metadata": {},
   "outputs": [
    {
     "name": "stdout",
     "output_type": "stream",
     "text": [
      "(4, 5, 6)\n",
      "6\n",
      "('one', 'two', 'one', 'two', 'one', 'two')\n",
      "6\n",
      "((1, 2, 3), (3, 4, 6))\n",
      "(1, 2, 3, 1, 2, 3, 1, 2, 3)\n",
      "\n",
      "---------------------------\n",
      "S\n",
      "('S', 't', 'r', 'i', 'n', 'g')\n",
      "\n",
      "---------------------------\n",
      "['S', 't', 'r', 'i', 'n', 'g']\n"
     ]
    }
   ],
   "source": [
    "# Chapter 3.1 Data Stuctures and Sequences\n",
    "\n",
    "# Tuple :\n",
    "\n",
    "# A tuple is a fixed-length, immutable sequence\n",
    "tup = (4,5,6)\n",
    "print(tup)\n",
    "print(tup[2])\n",
    "# tup[2]= 5       # error, tuple is immutalbe\n",
    "\n",
    "tup = ('one', 'two') * 3\n",
    "print(tup)\n",
    "\n",
    "nested_tup = ((1,2,3), (3,4,6))\n",
    "print(nested_tup[1][2])\n",
    "print(nested_tup)\n",
    "\n",
    "# Convert any sequence to a tuple\n",
    "tup = tuple([1,2,3]*3)\n",
    "print(tup)\n",
    "\n",
    "print('\\n---------------------------')\n",
    "tup = tuple('String')\n",
    "print(tup[0])\n",
    "print(tup)\n",
    "\n",
    "print('\\n---------------------------')\n",
    "# vs. list\n",
    "lst = list('String')\n",
    "print(lst)\n",
    "\n"
   ]
  },
  {
   "cell_type": "code",
   "execution_count": 28,
   "metadata": {},
   "outputs": [
    {
     "name": "stdout",
     "output_type": "stream",
     "text": [
      "4 5 6\n",
      "4 5 6 7\n",
      "2 1\n",
      "a=1, b=2, c=3\n",
      "a=4, b=5, c=6\n",
      "a=7, b=8, c=9\n",
      "1 2 3\n",
      "4 5 6\n",
      "7 8 9\n",
      "1 2\n"
     ]
    }
   ],
   "source": [
    "# page 53\n",
    "# Unpacking tuples:\n",
    "\n",
    "tup = (4,5,6)\n",
    "a,b,c = tup\n",
    "print(a, b, c)\n",
    "\n",
    "tup = (4,5,(6,7))\n",
    "a,b,(c,d) = tup\n",
    "print(a, b, c, d)\n",
    "\n",
    "# python swap\n",
    "a, b = (1, 2)\n",
    "a, b = b, a\n",
    "print(a, b)\n",
    "\n",
    "\n",
    "seq = [(1,2,3),(4,5,6),(7,8,9)]\n",
    "for a, b, c in seq:\n",
    "    print('a={0}, b={1}, c={2}'.format(a,b,c))\n",
    "    \n",
    "for a, b, c in seq:\n",
    "    print(a,b,c)\n",
    "\n",
    "\n",
    "values = (1, 2, 3, 4, 5, 6)\n",
    "a,b,*_ =values\n",
    "print(a, b)"
   ]
  },
  {
   "cell_type": "code",
   "execution_count": 51,
   "metadata": {},
   "outputs": [
    {
     "name": "stdout",
     "output_type": "stream",
     "text": [
      "[2, 3, 7, None]\n",
      "range(0, 10)\n",
      "[0, 1, 2, 3, 4, 5, 6, 7, 8, 9]\n",
      "['foo', 'peekaboo', 'baz']\n",
      "['foo', 'dwarf', 'peekaboo', 'baz', 'dwarf']\n",
      "1\n",
      "['foo', 'peekaboo', 'baz', 'dwarf']\n",
      "['foo', 'baz', 'dwarf']\n",
      "False\n",
      "True\n"
     ]
    }
   ],
   "source": [
    "# Page 54\n",
    "# List：variable-length, can be modified\n",
    "# List : use [ ], or using list function\n",
    "\n",
    "a_list = [2, 3, 7, None]\n",
    "print(a_list)\n",
    "print(range(0,10))\n",
    "a_list = list(range(0,10))\n",
    "print(a_list)\n",
    "\n",
    "\n",
    "tup = ('foo', 'bar', 'baz')\n",
    "b_list= list(tup)\n",
    "\n",
    "b_list[1] ='peekaboo'       # list can be modified\n",
    "print(b_list)\n",
    "\n",
    "\n",
    "# Add and remove element\n",
    "b_list.append('dwarf')\n",
    "b_list.insert(1,'dwarf')\n",
    "print(b_list)\n",
    "\n",
    "# get first index\n",
    "print(b_list.index('dwarf'))\n",
    "\n",
    "# remove the first one\n",
    "b_list.remove('dwarf')\n",
    "print(b_list)\n",
    "\n",
    "# pop the \n",
    "b_list.pop(1)\n",
    "print(b_list)\n",
    "\n",
    "# Check us: in\n",
    "print('red' in b_list)\n",
    "print('foo' in b_list)\n"
   ]
  },
  {
   "cell_type": "code",
   "execution_count": 52,
   "metadata": {},
   "outputs": [
    {
     "name": "stdout",
     "output_type": "stream",
     "text": [
      "[4, 'foo', None, 7, 8, (2, 3)]\n",
      "[4, 'foo', None, 7, 8, (2, 3), 7, 8, (2, 3)]\n",
      "['a', 'b', 'c', 'd']\n",
      "\n",
      "---------------------------\n",
      "['a', 'b', 'c', 'd']\n"
     ]
    }
   ],
   "source": [
    "# Concatenatiing and combining lists\n",
    "a_list = [4, 'foo', None] + [7, 8, (2,3)]\n",
    "print(a_list)\n",
    "\n",
    "a_list +=  [7, 8, (2,3)]\n",
    "print(a_list)\n",
    "\n",
    "# Use addition for concatenation is expensive, because make a new object and copyover\n",
    "# Prefer Use extend\n",
    "c_list = []\n",
    "d_list = [['a','b'], ['c','d']]\n",
    "for chunk in d_list:\n",
    "    c_list += chunk\n",
    "print(c_list)\n",
    "print('\\n---------------------------')\n",
    "#vs.\n",
    "c_list = []\n",
    "d_list = [['a','b'], ['c','d']]\n",
    "for chunk in d_list:\n",
    "    c_list.extend(chunk)\n",
    "print(c_list)"
   ]
  },
  {
   "cell_type": "code",
   "execution_count": 58,
   "metadata": {},
   "outputs": [
    {
     "name": "stdout",
     "output_type": "stream",
     "text": [
      "[2, 3, 4, 7, 7, 8, 18]\n",
      "3\n",
      "[2, 3, 4, 5, 7, 7, 8, 18]\n"
     ]
    }
   ],
   "source": [
    "# Page 57\n",
    "# Binary search and sort\n",
    "\n",
    "a_list = [2, 7, 18, 4, 3, 7, 8]\n",
    "a_list.sort()\n",
    "print(a_list)\n",
    "\n",
    "\n",
    "import bisect as bi\n",
    "\n",
    "# function bisect.bisect find the location, the element should be inserted\n",
    "print(bi.bisect(a_list, 5 ))   # should be index 3\n",
    "\n",
    "# function bisect.insort sort and insert\n",
    "bi.insort(a_list, 5)   \n",
    "print(a_list)"
   ]
  },
  {
   "cell_type": "code",
   "execution_count": 71,
   "metadata": {},
   "outputs": [
    {
     "name": "stdout",
     "output_type": "stream",
     "text": [
      "[0, 1, 2, 3, 4, 5, 6, 7, 8, 9]\n",
      "[0, 1, 2, 3, 4, 5, 6, 7, 8, 9]\n",
      "[3, 4]\n",
      "[]\n",
      "[0, 1, 2, 3, 4]\n",
      "[5, 6, 7, 8, 9]\n",
      "[0, 1, 2, 3, 4]\n",
      "[2, 3, 4, 5, 6, 7, 8]\n",
      "[]\n"
     ]
    }
   ],
   "source": [
    "# Page 58\n",
    "# Use slice\n",
    "seq = list(range(10))\n",
    "print(seq)\n",
    "seq = [0, 1, 2, 3, 4, 5, 6, 7, 8, 9]\n",
    "print(seq)\n",
    "\n",
    "print(seq[ 3: 5 ])\n",
    "print(seq[ 5: 3 ])   # nothing\n",
    "print(seq[ : 5])\n",
    "print(seq[ 5: ])\n",
    "print(seq[ : -5])\n",
    "print(seq[ -8:-1]) \n",
    "print(seq[ -1:-8])  #noting"
   ]
  },
  {
   "cell_type": "code",
   "execution_count": 78,
   "metadata": {},
   "outputs": [
    {
     "name": "stdout",
     "output_type": "stream",
     "text": [
      "{'foo': 0, 'bar': 1, 'baz': 2}\n",
      "[3, 5, 7, 2]\n",
      "[2, 3, 5, 7]\n",
      "list_a [2, 3, 5, 7]\n",
      "[' ', 'A', 'C', 'E', 'E', 'H', 'O', 'R', 'R', 'S']\n"
     ]
    }
   ],
   "source": [
    "# Page 59\n",
    "# Built-in Sequence Functions\n",
    "\n",
    "# Use enumerate to compute dict mapping\n",
    "some_list = ['foo', 'bar', 'baz']\n",
    "mapping = {}\n",
    "\n",
    "for i, v in enumerate(some_list):\n",
    "    mapping[v] = i\n",
    "\n",
    "print(mapping)\n",
    "\n",
    "a_list = [3, 5, 7, 2]\n",
    "b_list = sorted(a_list)   # new b_list is created, a_list, no change\n",
    "print(a_list)\n",
    "print(b_list)\n",
    "# vs\n",
    "a_list.sort()\n",
    "print('list_a',a_list)\n",
    "\n",
    "print(sorted('HORSE RACE'))"
   ]
  },
  {
   "cell_type": "code",
   "execution_count": 84,
   "metadata": {},
   "outputs": [
    {
     "name": "stdout",
     "output_type": "stream",
     "text": [
      "[('foo', 1), ('bar', 2), ('baz', 3)]\n",
      "[3, 2, 1]\n"
     ]
    }
   ],
   "source": [
    "# page 60\n",
    "# function zip : pairs up the elements of a list\n",
    "\n",
    "seq1 = ['foo', 'bar', 'baz']\n",
    "seq2 = [1, 2, 3]\n",
    "\n",
    "zipped = zip(seq1, seq2)\n",
    "a_list = list(zipped)\n",
    "print(a_list)\n",
    "\n",
    "\n",
    "# Use function reversed\n",
    "b_list = list(reversed(seq2))\n",
    "print(b_list)"
   ]
  },
  {
   "cell_type": "code",
   "execution_count": 12,
   "metadata": {},
   "outputs": [
    {
     "name": "stdout",
     "output_type": "stream",
     "text": [
      "{'a': 'some values', 'b': [1, 2, 3]}\n",
      "{'a': 'some values', 'b': [1, 2, 3], 7: 'an integer'}\n",
      "[1, 2, 3]\n",
      "{'a': 'some values', 'b': [1, 2, 3], 7: 'an integer', 'dummy': 'another value'}\n",
      "{1: 'CI101', 2: 'CI215', 3: 'CI245'}\n",
      "{'a': ['apples', 'atom'], 'b': ['bat', 'bar']}\n"
     ]
    }
   ],
   "source": [
    "# Page 61\n",
    "# dict: {}\n",
    "#hash map or associative array. Collection of key-value paire \n",
    "\n",
    "emp_dict = {}\n",
    "\n",
    "d ={'a':'some values', 'b':[1, 2, 3 ]}\n",
    "print(d)\n",
    "\n",
    "d[7]='an integer'\n",
    "\n",
    "print(d)\n",
    "print(d['b'])\n",
    "\n",
    "d['dummy']='another value'\n",
    "\n",
    "print(d)\n",
    "\n",
    "# Creating dicts from sequence\n",
    "key_list = [1,2,3]\n",
    "value_list = ['CI101','CI215','CI245']\n",
    "mapping = {}\n",
    "\n",
    "for key, value in zip(key_list, value_list):\n",
    "    mapping[key] = value\n",
    "\n",
    "print(mapping)\n",
    "\n",
    "\n",
    "# Categorizing a list of words by their first letters\n",
    "words =['apples', 'bat','bar','atom']\n",
    "\n",
    "by_letters ={}\n",
    "\n",
    "for word in words:\n",
    "    letter = word[0]\n",
    "    if letter not in by_letters:\n",
    "        by_letters[letter] = [word]\n",
    "    else:\n",
    "        by_letters[letter].append(word)\n",
    "\n",
    "print(by_letters)\n"
   ]
  },
  {
   "cell_type": "code",
   "execution_count": 22,
   "metadata": {},
   "outputs": [
    {
     "name": "stdout",
     "output_type": "stream",
     "text": [
      "a : {1, 2, 3, 4, 5}\n",
      "b : {3, 4, 5, 6, 7}\n",
      "\n",
      "---------------------------\n",
      "{1, 2, 3, 4, 5, 6, 7}\n",
      "{1, 2, 3, 4, 5, 6, 7}\n",
      "\n",
      "---------------------------\n",
      "{3, 4, 5}\n",
      "{3, 4, 5}\n",
      "\n",
      "---------------------------\n",
      "{1, 2}\n",
      "{1, 2}\n",
      "\n",
      "---------------------------\n",
      "None\n",
      "{1, 2, 3, 4, 5, 6, 7}\n"
     ]
    }
   ],
   "source": [
    "# page 65\n",
    "# A set is an unordered collection of unique elements. They like dicts, but keys only , no values\n",
    "\n",
    "a_set = set([2, 2, 2, 1, 3, 3])\n",
    "#print(a_set)\n",
    "\n",
    "a = {1, 2, 3, 4, 5}\n",
    "b = {3, 4, 5, 6, 7}\n",
    "print('a :', a)\n",
    "print('b :', b)\n",
    "\n",
    "# set operations: unions, intersection, difference\n",
    "print('\\n---------------------------')\n",
    "print( a.union(b))    \n",
    "print( a | b)     # <- same as union\n",
    "print('\\n---------------------------')\n",
    "print( a.intersection(b))    \n",
    "print( a & b)     # <- same as intersection\n",
    "print('\\n---------------------------')\n",
    "print( a.difference(b))    \n",
    "print( a - b)     # <- same as intersection\n",
    "\n",
    "print('\\n---------------------------')\n",
    "print( a.update(b))    \n",
    "\n",
    "\n",
    "c= a.copy()\n",
    "print(c)\n",
    "\n",
    "# Page 66 Python set operation\n",
    "a = {'a'}\n",
    "a.add('b')\n",
    "a.remove('b')\n",
    "a.clear()\n",
    "a.union(b)\n",
    "a.update(b)\n",
    "a.issubset(b)\n",
    "a.issuperset(b)\n",
    "a.isdisjoint(b)\n"
   ]
  },
  {
   "cell_type": "code",
   "execution_count": 23,
   "metadata": {},
   "outputs": [
    {
     "name": "stdout",
     "output_type": "stream",
     "text": [
      "5 6 7\n"
     ]
    }
   ],
   "source": [
    "#page 69\n",
    "\n",
    "# 3.2 Functions\n",
    "\n",
    "def f():\n",
    "    a = 5\n",
    "    b = 6\n",
    "    c = 7\n",
    "    return a, b, c\n",
    "\n",
    "a, b, c = f()\n",
    "\n",
    "print(a, b, c)"
   ]
  },
  {
   "cell_type": "code",
   "execution_count": 27,
   "metadata": {},
   "outputs": [
    {
     "data": {
      "text/plain": [
       "['Alabama', 'Georgia', 'Georgia', 'Georgia', 'Florida', 'Sout Carolina']"
      ]
     },
     "execution_count": 27,
     "metadata": {},
     "output_type": "execute_result"
    }
   ],
   "source": [
    "# page 72\n",
    "\n",
    "states=['  Alabama', ' Georgia!', 'georgia?','Georgia', 'FLorida', 'sout carolina##' ]\n",
    "\n",
    "import re\n",
    "\n",
    "def clean_strings(strings):\n",
    "    results = []\n",
    "    for value in strings:\n",
    "        value = value.strip()\n",
    "        value = re.sub('[!#?]','',value)\n",
    "        value= value.title()\n",
    "        results.append(value)\n",
    "    return results\n",
    "\n",
    "clean_strings(states)\n",
    "\n"
   ]
  },
  {
   "cell_type": "code",
   "execution_count": 26,
   "metadata": {},
   "outputs": [
    {
     "data": {
      "text/plain": [
       "['a', 'b']"
      ]
     },
     "execution_count": 26,
     "metadata": {},
     "output_type": "execute_result"
    }
   ],
   "source": []
  },
  {
   "cell_type": "code",
   "execution_count": null,
   "metadata": {},
   "outputs": [],
   "source": []
  }
 ],
 "metadata": {
  "kernelspec": {
   "display_name": "Python 3",
   "language": "python",
   "name": "python3"
  },
  "language_info": {
   "codemirror_mode": {
    "name": "ipython",
    "version": 3
   },
   "file_extension": ".py",
   "mimetype": "text/x-python",
   "name": "python",
   "nbconvert_exporter": "python",
   "pygments_lexer": "ipython3",
   "version": "3.7.3"
  }
 },
 "nbformat": 4,
 "nbformat_minor": 2
}
