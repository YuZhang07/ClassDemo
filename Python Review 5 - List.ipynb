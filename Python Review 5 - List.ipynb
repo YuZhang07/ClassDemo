{
 "cells": [
  {
   "cell_type": "code",
   "execution_count": 4,
   "metadata": {},
   "outputs": [
    {
     "name": "stdout",
     "output_type": "stream",
     "text": [
      "['CI101', 'CI215', 'CI245']\n"
     ]
    },
    {
     "data": {
      "text/plain": [
       "['CI101', 'CI215', 'CI245']"
      ]
     },
     "execution_count": 4,
     "metadata": {},
     "output_type": "execute_result"
    }
   ],
   "source": [
    "#Ch7 List\n",
    "\n",
    "# Use [ ]\n",
    "courses =['CI101','CI215', 'CI245']\n",
    "print(courses)\n",
    "courses\n",
    "#print(courses)"
   ]
  },
  {
   "cell_type": "code",
   "execution_count": 7,
   "metadata": {},
   "outputs": [
    {
     "name": "stdout",
     "output_type": "stream",
     "text": [
      "[1, 1.1, 2, 2.3, 1, 1.1, 2, 2.3, 1, 1.1, 2, 2.3]\n"
     ]
    }
   ],
   "source": [
    "values=[1, 1.1, 2, 2.3]*3\n",
    "print(values)"
   ]
  },
  {
   "cell_type": "code",
   "execution_count": 10,
   "metadata": {},
   "outputs": [
    {
     "name": "stdout",
     "output_type": "stream",
     "text": [
      "['CI101', 3, 'CI101', 3]\n",
      "\n",
      "------\n",
      "['CI101', 3, 'CI215', 3]\n"
     ]
    }
   ],
   "source": [
    "info=['CI101',3]*2\n",
    "print(info)\n",
    "\n",
    "print('\\n------')\n",
    "info[2]='CI215'\n",
    "print(info)"
   ]
  },
  {
   "cell_type": "code",
   "execution_count": 11,
   "metadata": {},
   "outputs": [
    {
     "data": {
      "text/plain": [
       "range(0, 10)"
      ]
     },
     "execution_count": 11,
     "metadata": {},
     "output_type": "execute_result"
    }
   ],
   "source": [
    "range(0,10)"
   ]
  },
  {
   "cell_type": "code",
   "execution_count": 12,
   "metadata": {},
   "outputs": [
    {
     "data": {
      "text/plain": [
       "[0, 1, 2, 3, 4, 5, 6, 7, 8, 9]"
      ]
     },
     "execution_count": 12,
     "metadata": {},
     "output_type": "execute_result"
    }
   ],
   "source": [
    "list(range(0,10))"
   ]
  },
  {
   "cell_type": "code",
   "execution_count": 13,
   "metadata": {},
   "outputs": [
    {
     "name": "stdout",
     "output_type": "stream",
     "text": [
      "[0, 1, 2, 3, 4, 5, 6, 7, 8, 9]\n"
     ]
    }
   ],
   "source": [
    "# list and range function\n",
    "# Use list function\n",
    "nums = list(range(0,10))  \n",
    "print(nums)\n"
   ]
  },
  {
   "cell_type": "code",
   "execution_count": 16,
   "metadata": {},
   "outputs": [
    {
     "name": "stdout",
     "output_type": "stream",
     "text": [
      "[1, 3, 5, 7, 9]\n"
     ]
    }
   ],
   "source": [
    "nums = list(range(1,10,2))\n",
    "print(nums)"
   ]
  },
  {
   "cell_type": "code",
   "execution_count": 17,
   "metadata": {},
   "outputs": [
    {
     "name": "stdout",
     "output_type": "stream",
     "text": [
      "[0, 0, 0, 0, 0, 0, 0, 0, 0, 0]\n"
     ]
    }
   ],
   "source": [
    "nums =[0]*10\n",
    "print(nums)"
   ]
  },
  {
   "cell_type": "code",
   "execution_count": 18,
   "metadata": {},
   "outputs": [
    {
     "name": "stdout",
     "output_type": "stream",
     "text": [
      "[0, 1, 2, 3, 4, 5, 6, 7, 8, 9]\n"
     ]
    }
   ],
   "source": [
    "for i in range(10):\n",
    "    nums[i]=i\n",
    "print(nums)"
   ]
  },
  {
   "cell_type": "code",
   "execution_count": 19,
   "metadata": {},
   "outputs": [
    {
     "name": "stdout",
     "output_type": "stream",
     "text": [
      "[1, 1, 1, 1, 1, 1, 1, 1, 1, 1]\n"
     ]
    }
   ],
   "source": [
    "nums = [1]*10\n",
    "print(nums)"
   ]
  },
  {
   "cell_type": "code",
   "execution_count": 21,
   "metadata": {},
   "outputs": [
    {
     "data": {
      "text/plain": [
       "[1, 2, 5, 1, 2, 5, 1, 2, 5]"
      ]
     },
     "execution_count": 21,
     "metadata": {},
     "output_type": "execute_result"
    }
   ],
   "source": [
    "nums = [1, 2 ,5]*3\n",
    "nums"
   ]
  },
  {
   "cell_type": "code",
   "execution_count": 23,
   "metadata": {},
   "outputs": [
    {
     "name": "stdout",
     "output_type": "stream",
     "text": [
      "Enter the sales for each day\n",
      "Day # 1 : 10\n",
      "Day # 2 : 20\n",
      "Day # 3 : 30\n",
      "Day # 4 : 40\n",
      "Day # 5 : 50\n",
      "Display the sales for each\n",
      "10.0\n",
      "20.0\n",
      "30.0\n",
      "40.0\n",
      "50.0\n"
     ]
    }
   ],
   "source": [
    "# Page 348\n",
    "# Pr 7-1\n",
    "\n",
    "def main():\n",
    "    DAYS=5\n",
    "    sales=[0]*DAYS\n",
    "    \n",
    "    print('Enter the sales for each day')\n",
    "    i = 0\n",
    "    for i in range(DAYS):\n",
    "        print('Day #',(i+1), ': ', sep=' ',end='')\n",
    "        sales[i] = float (input ())\n",
    "\n",
    "    print('Display the sales for each')\n",
    "    for i in range(DAYS):\n",
    "        print(sales[i])\n",
    "\n",
    "\n",
    "#Invoke main function\n",
    "main()"
   ]
  },
  {
   "cell_type": "code",
   "execution_count": 26,
   "metadata": {},
   "outputs": [
    {
     "name": "stdout",
     "output_type": "stream",
     "text": [
      "[0, 1, 2, 3, 4, 5, 6, 7, 8, 9]\n"
     ]
    }
   ],
   "source": [
    "# Create a list\n",
    "nums = list(range(0,10))\n",
    "print(nums)"
   ]
  },
  {
   "cell_type": "code",
   "execution_count": 27,
   "metadata": {},
   "outputs": [
    {
     "name": "stdout",
     "output_type": "stream",
     "text": [
      "[2, 3, 4]\n"
     ]
    }
   ],
   "source": [
    "# 7.3 List slicing\n",
    "temp = nums[2:5]\n",
    "print(temp )"
   ]
  },
  {
   "cell_type": "code",
   "execution_count": 28,
   "metadata": {},
   "outputs": [
    {
     "name": "stdout",
     "output_type": "stream",
     "text": [
      "[0, 1, 2, 3, 4]\n"
     ]
    }
   ],
   "source": [
    "temp = nums[:5]\n",
    "print(temp)"
   ]
  },
  {
   "cell_type": "code",
   "execution_count": 29,
   "metadata": {},
   "outputs": [
    {
     "name": "stdout",
     "output_type": "stream",
     "text": [
      "[5, 6, 7, 8, 9]\n"
     ]
    }
   ],
   "source": [
    "temp = nums[5:]\n",
    "print(temp)"
   ]
  },
  {
   "cell_type": "code",
   "execution_count": 30,
   "metadata": {},
   "outputs": [
    {
     "name": "stdout",
     "output_type": "stream",
     "text": [
      "[0, 1, 2, 3, 4, 5, 6, 7, 8, 9]\n"
     ]
    }
   ],
   "source": [
    "print(nums)"
   ]
  },
  {
   "cell_type": "code",
   "execution_count": 31,
   "metadata": {},
   "outputs": [
    {
     "name": "stdout",
     "output_type": "stream",
     "text": [
      "[5, 6, 7, 8, 9]\n"
     ]
    }
   ],
   "source": [
    "temp = nums[-5:]\n",
    "print(temp)"
   ]
  },
  {
   "cell_type": "code",
   "execution_count": 33,
   "metadata": {},
   "outputs": [
    {
     "name": "stdout",
     "output_type": "stream",
     "text": [
      "9\n",
      "8\n",
      "7\n",
      "6\n",
      "5\n"
     ]
    }
   ],
   "source": [
    "print(nums[-1])\n",
    "print(nums[-2])\n",
    "print(nums[-3])\n",
    "print(nums[-4])\n",
    "print(nums[-5])"
   ]
  },
  {
   "cell_type": "code",
   "execution_count": 34,
   "metadata": {},
   "outputs": [
    {
     "name": "stdout",
     "output_type": "stream",
     "text": [
      "[0, 1, 2, 3, 4]\n"
     ]
    }
   ],
   "source": [
    "temp = nums[:-5]\n",
    "print(temp)"
   ]
  },
  {
   "cell_type": "code",
   "execution_count": 42,
   "metadata": {},
   "outputs": [
    {
     "name": "stdout",
     "output_type": "stream",
     "text": [
      "['CI101', 'CI215', 'CI245', 'CI214', 'CI320', 'CI354', 'CI111']\n",
      "1\n",
      "CI215\n",
      "['CI101', 'CI215', 'CI245', 'CI214', 'CI320', 'CI354']\n",
      "['CI101', 'CI111', 'CI215', 'CI245', 'CI214', 'CI320', 'CI354']\n"
     ]
    }
   ],
   "source": [
    "# append(item)\n",
    "# index(item) return the index\n",
    "# insert(index, item)\n",
    "# sort\n",
    "# remove(item)\n",
    "\n",
    "courses = ['CI101','CI215','CI245','CI214','CI320','CI354']\n",
    "courses.append('CI111')\n",
    "print(courses)\n",
    "\n",
    "i = courses.index('CI215')\n",
    "print(i)\n",
    "print(courses[i])\n",
    "\n",
    "courses.remove('CI111')\n",
    "print(courses)\n",
    "\n",
    "courses.insert(1,'CI111')\n",
    "print(courses)"
   ]
  },
  {
   "cell_type": "code",
   "execution_count": 35,
   "metadata": {},
   "outputs": [
    {
     "name": "stdout",
     "output_type": "stream",
     "text": [
      "Enter a course numCI101\n",
      "CI101  is in the list\n"
     ]
    }
   ],
   "source": [
    "# 7.4 in operator\n",
    "def main():\n",
    "    list=['CI101','CI215','CI245','CI214','CI320','CI354']\n",
    "\n",
    "    course = input('Enter a course num')\n",
    "\n",
    "    if course in list:\n",
    "        print(course, ' is in the list')\n",
    "    else:\n",
    "        print(course, ' is not in the list')\n",
    "\n",
    "#Call main function\n",
    "main()"
   ]
  },
  {
   "cell_type": "code",
   "execution_count": 7,
   "metadata": {},
   "outputs": [
    {
     "name": "stdout",
     "output_type": "stream",
     "text": [
      "Enter a course name: CI101\n",
      "Do you want to add another course?\n",
      "y=yes, anything else=no: y\n",
      "Enter a course name: CI213\n",
      "Do you want to add another course?\n",
      "y=yes, anything else=no: y\n",
      "Enter a course name: CI215\n",
      "Do you want to add another course?\n",
      "y=yes, anything else=no: y\n",
      "Enter a course name: CI245\n",
      "Do you want to add another course?\n",
      "y=yes, anything else=no: n\n",
      "['CI101', 'CI213', 'CI215', 'CI245']\n",
      "Current course list\n",
      "CI101\n",
      "CI213\n",
      "CI215\n",
      "CI245\n",
      "Which course to replaceCI101\n",
      "which new course to addCI214\n",
      "Current course list\n",
      "CI213\n",
      "CI214\n",
      "CI215\n",
      "CI245\n"
     ]
    }
   ],
   "source": [
    "# Page 356, program 7.3\n",
    "# course_list is global variable\n",
    "\n",
    "course_list=[]\n",
    "def main():\n",
    "    addCourses()\n",
    "    replaceCourse()\n",
    "    \n",
    "def addCourses():\n",
    "    ans='y'\n",
    "    while ans == 'y':\n",
    "        course = input('Enter a course name: ')\n",
    "        course_list.append(course)\n",
    "        print('Do you want to add another course?')\n",
    "        ans=input('y=yes, anything else=no: ')\n",
    "    print(course_list)\n",
    "\n",
    "def display():\n",
    "    print('Current course list')\n",
    "    for course in course_list:\n",
    "        print(course)\n",
    "\n",
    "def replaceCourse():\n",
    "    display()\n",
    "    old_course = input('Which course to replace')\n",
    "    try:\n",
    "        index = course_list.index(old_course)\n",
    "        new_course = input('which new course to add')\n",
    "        course_list[index] = new_course\n",
    "        #course_list.insert(index,new_course)\n",
    "        #course_list.remove(old_course)\n",
    "        course_list.sort()\n",
    "        display()\n",
    "    except ValueError:\n",
    "        print('The course is not in the list')\n",
    "    \n",
    "#Call main function\n",
    "main()"
   ]
  },
  {
   "cell_type": "code",
   "execution_count": 2,
   "metadata": {},
   "outputs": [
    {
     "data": {
      "image/png": "[encoded data removed]",
      "text/plain": [
       "<Figure size 432x288 with 1 Axes>"
      ]
     },
     "metadata": {
      "needs_background": "light"
     },
     "output_type": "display_data"
    }
   ],
   "source": [
    "%matplotlib inline\n",
    "\n",
    "#Page 384\n",
    "import matplotlib.pyplot as plt\n",
    "\n",
    "def main():\n",
    "    x=[0,1,2,3,4]\n",
    "    y =[0,3,1,5,2]\n",
    "    plt.plot(x,y)\n",
    "    plt.title('Sales by Year')\n",
    "    plt.xlabel('X : Years')\n",
    "    plt.ylabel('Y - Sales')\n",
    "    plt.grid(True)\n",
    "    plt.show()\n",
    "\n",
    "main()"
   ]
  },
  {
   "cell_type": "code",
   "execution_count": 60,
   "metadata": {},
   "outputs": [
    {
     "data": {
      "image/png": "[encoded data removed]",
      "text/plain": [
       "<Figure size 432x288 with 1 Axes>"
      ]
     },
     "metadata": {
      "needs_background": "light"
     },
     "output_type": "display_data"
    }
   ],
   "source": [
    "# page 392\n",
    "import matplotlib.pyplot as plt\n",
    "\n",
    "def main():\n",
    "    left_edges = [0, 10, 20, 30, 40 ]\n",
    "    \n",
    "    # Create a list\n",
    "    heights = [100, 200, 300, 400, 500]\n",
    "    bar_width = 5\n",
    "    \n",
    "    plt.bar(left_edges , heights, bar_width, color='Green' )   # 'Red'\n",
    "    \n",
    "    plt.xticks([5, 15, 25, 35, 45], ['2016', '2017','2018','2019','2020'])\n",
    "    plt.yticks([100, 200, 300, 400, 500], ['$0m', '$1m','$2m','$3m','$4m','$5m'])\n",
    "    \n",
    "    plt.show()\n",
    "\n",
    "main()"
   ]
  },
  {
   "cell_type": "code",
   "execution_count": 64,
   "metadata": {},
   "outputs": [
    {
     "data": {
      "image/png": "[encoded data removed]",
      "text/plain": [
       "<Figure size 432x288 with 1 Axes>"
      ]
     },
     "metadata": {},
     "output_type": "display_data"
    }
   ],
   "source": [
    "import matplotlib.pyplot as plt\n",
    "\n",
    "def main():\n",
    "    values = [30, 20, 15, 40 ]\n",
    "    labels =['1st Qtr.','2nd Qtr.', '3rd Qtr.','4th Qtr.' ]\n",
    "    \n",
    "    plt.pie(values, labels = labels)\n",
    "    \n",
    "    plt.title('Sales by Quarter')\n",
    "    plt.show()\n",
    "\n",
    "main()"
   ]
  }
 ],
 "metadata": {
  "kernelspec": {
   "display_name": "Python 3",
   "language": "python",
   "name": "python3"
  },
  "language_info": {
   "codemirror_mode": {
    "name": "ipython",
    "version": 3
   },
   "file_extension": ".py",
   "mimetype": "text/x-python",
   "name": "python",
   "nbconvert_exporter": "python",
   "pygments_lexer": "ipython3",
   "version": "3.7.3"
  }
 },
 "nbformat": 4,
 "nbformat_minor": 2
}
