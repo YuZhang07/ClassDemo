{
 "cells": [
  {
   "cell_type": "code",
   "execution_count": 5,
   "metadata": {},
   "outputs": [
    {
     "name": "stdout",
     "output_type": "stream",
     "text": [
      "Start Python\n"
     ]
    }
   ],
   "source": [
    "# 4/28/2019\n",
    "# Chapter 2\n",
    "\n",
    "# use single '' vs. \" \"\n",
    "\n",
    "print('Start Python')\n"
   ]
  },
  {
   "cell_type": "code",
   "execution_count": 4,
   "metadata": {},
   "outputs": [
    {
     "name": "stdout",
     "output_type": "stream",
     "text": [
      "Learn Data Analysis\n"
     ]
    }
   ],
   "source": [
    "print(\"Learn Data Analysis\")"
   ]
  },
  {
   "cell_type": "code",
   "execution_count": 6,
   "metadata": {},
   "outputs": [
    {
     "name": "stdout",
     "output_type": "stream",
     "text": [
      "Don't be fear!\n",
      "I'm here!\n"
     ]
    }
   ],
   "source": [
    "print(\"Don't be fear!\")\n",
    "print(\"I'm here!\")\n",
    "#print('I'm here!')  # <- Error"
   ]
  },
  {
   "cell_type": "code",
   "execution_count": 9,
   "metadata": {},
   "outputs": [
    {
     "name": "stdout",
     "output_type": "stream",
     "text": [
      "Please \"come\" here!\n"
     ]
    }
   ],
   "source": [
    "#print(\"Please \"come\" here!\")   # <- Error\n",
    "print('Please \"come\" here!')    # Correct"
   ]
  },
  {
   "cell_type": "code",
   "execution_count": 10,
   "metadata": {},
   "outputs": [
    {
     "name": "stdout",
     "output_type": "stream",
     "text": [
      "width =  5 ; Length =  10\n"
     ]
    }
   ],
   "source": [
    "# Program 2-5\n",
    "# variables\n",
    "\n",
    "width = 5\n",
    "length = 10\n",
    "print(\"width = \", width, \"; Length = \", length)"
   ]
  },
  {
   "cell_type": "code",
   "execution_count": 11,
   "metadata": {},
   "outputs": [
    {
     "name": "stdout",
     "output_type": "stream",
     "text": [
      "I have  2.5  in my account\n",
      "I have  10  in my account now\n"
     ]
    }
   ],
   "source": [
    "# Program 2-10 : show values of variables\n",
    "dollars = 2.5\n",
    "print(\"I have \", dollars, \" in my account\")\n",
    "dollars = 10\n",
    "print(\"I have \", dollars, \" in my account now\")\n"
   ]
  },
  {
   "cell_type": "code",
   "execution_count": 12,
   "metadata": {},
   "outputs": [
    {
     "name": "stdout",
     "output_type": "stream",
     "text": [
      "<class 'int'>\n",
      "<class 'float'>\n",
      "I have  12.5  in my account now\n"
     ]
    }
   ],
   "source": [
    "# In python, variables' type can change\n",
    "dollars = 10\n",
    "print(type(dollars))\n",
    "dollars = 12.5\n",
    "print(type(dollars))\n",
    "print(\"I have \", dollars, \" in my account now\")"
   ]
  },
  {
   "cell_type": "code",
   "execution_count": 13,
   "metadata": {},
   "outputs": [
    {
     "name": "stdout",
     "output_type": "stream",
     "text": [
      "Zhang , Julie\n"
     ]
    }
   ],
   "source": [
    "# Program 2-11\n",
    "# Use String variables\n",
    "first_name =\"Julie\"\n",
    "last_name = \"Zhang\"\n",
    "print(last_name, \",\",    first_name)"
   ]
  },
  {
   "cell_type": "code",
   "execution_count": 14,
   "metadata": {},
   "outputs": [
    {
     "name": "stdout",
     "output_type": "stream",
     "text": [
      "<class 'int'>\n",
      "5\n",
      "<class 'str'>\n",
      "Test\n"
     ]
    }
   ],
   "source": [
    "# Page 48, different types\n",
    "x = 5\n",
    "print(type(x))\n",
    "print(x)\n",
    "x = \"Test\"\n",
    "print(type(x))\n",
    "print(x)"
   ]
  },
  {
   "cell_type": "code",
   "execution_count": 16,
   "metadata": {},
   "outputs": [
    {
     "name": "stdout",
     "output_type": "stream",
     "text": [
      "Input customer name: Joe\n",
      "Input ticket number: 3\n",
      "Input the price: 10\n",
      "Customer Name = Joe\n",
      "Total Cost = $ 30.0\n"
     ]
    }
   ],
   "source": [
    "# 2.6 Read input\n",
    "# Program 2-12 and 2-13\n",
    "# input() return a string, need to convert to int or float\n",
    "\n",
    "name = input('Input customer name: ')\n",
    "number = int(input('Input ticket number: '))\n",
    "rate = float(input('Input the price: '))\n",
    "print('Customer Name =' , name )\n",
    "print('Total Cost = $' , number*rate)"
   ]
  },
  {
   "cell_type": "code",
   "execution_count": 17,
   "metadata": {},
   "outputs": [
    {
     "name": "stdout",
     "output_type": "stream",
     "text": [
      "17\n",
      "60\n"
     ]
    }
   ],
   "source": [
    "# 2.7 Calculation \n",
    "# python operator:  +   -   *    /    \n",
    "# //   %   **\n",
    "print( 12 + 5)\n",
    "print( 12 * 5 )"
   ]
  },
  {
   "cell_type": "code",
   "execution_count": 20,
   "metadata": {},
   "outputs": [
    {
     "name": "stdout",
     "output_type": "stream",
     "text": [
      "2.4\n",
      "2\n",
      "4\n",
      "27\n"
     ]
    }
   ],
   "source": [
    "print( 12 / 5 )  # 2.4\n",
    "print( 12 // 5)   # \n",
    "print( 14 % 5 )\n",
    "print( 3 ** 3) "
   ]
  },
  {
   "cell_type": "code",
   "execution_count": 22,
   "metadata": {},
   "outputs": [
    {
     "name": "stdout",
     "output_type": "stream",
     "text": [
      "6.0\n"
     ]
    }
   ],
   "source": [
    "# Operator Precedence\n",
    "print( 2*3 + 8/2**3 -1 )  # = 6 + 8/8 - 1 = 6"
   ]
  },
  {
   "cell_type": "code",
   "execution_count": 24,
   "metadata": {},
   "outputs": [
    {
     "name": "stdout",
     "output_type": "stream",
     "text": [
      "Enter seconds 190\n",
      "hours: 0\n",
      "minutes 3\n",
      "seconds 10\n"
     ]
    }
   ],
   "source": [
    "# Program 2-17\n",
    "# Test use:  //  and % (remainder)\n",
    "total_seconds = int(input('Enter seconds '))\n",
    "\n",
    "hours = total_seconds // 3600\n",
    "minutes = (total_seconds - hours*3600 ) // 60\n",
    "seconds = total_seconds % 60\n",
    "\n",
    "print(\"hours:\",hours )\n",
    "print(\"minutes\", minutes)\n",
    "print(\"seconds\", seconds)"
   ]
  },
  {
   "cell_type": "code",
   "execution_count": 26,
   "metadata": {},
   "outputs": [
    {
     "name": "stdout",
     "output_type": "stream",
     "text": [
      "Hello \n",
      "World\n"
     ]
    }
   ],
   "source": [
    "# Multiple lines, use \\\n",
    "print('Hello', \\\n",
    "      'World')"
   ]
  },
  {
   "cell_type": "code",
   "execution_count": 33,
   "metadata": {},
   "outputs": [
    {
     "ename": "SyntaxError",
     "evalue": "invalid syntax (<ipython-input-33-7596832711b2>, line 2)",
     "output_type": "error",
     "traceback": [
      "\u001b[1;36m  File \u001b[1;32m\"<ipython-input-33-7596832711b2>\"\u001b[1;36m, line \u001b[1;32m2\u001b[0m\n\u001b[1;33m    x = 10 +\u001b[0m\n\u001b[1;37m             ^\u001b[0m\n\u001b[1;31mSyntaxError\u001b[0m\u001b[1;31m:\u001b[0m invalid syntax\n"
     ]
    }
   ],
   "source": [
    "# Error\n",
    "x = 10 + \n",
    "    20 \n",
    "print(x)\n"
   ]
  },
  {
   "cell_type": "code",
   "execution_count": 34,
   "metadata": {},
   "outputs": [
    {
     "name": "stdout",
     "output_type": "stream",
     "text": [
      "30\n"
     ]
    }
   ],
   "source": [
    "# Correct\n",
    "x = 10 + \\\n",
    "    20  \n",
    "print(x)"
   ]
  },
  {
   "cell_type": "code",
   "execution_count": 35,
   "metadata": {},
   "outputs": [
    {
     "name": "stdout",
     "output_type": "stream",
     "text": [
      "1----------\n",
      "one\n",
      "two\n",
      "three\n"
     ]
    }
   ],
   "source": [
    "# 2.8 More about output\n",
    "print('1----------')\n",
    "print('one')\n",
    "print('two')\n",
    "print('three')"
   ]
  },
  {
   "cell_type": "code",
   "execution_count": 36,
   "metadata": {},
   "outputs": [
    {
     "name": "stdout",
     "output_type": "stream",
     "text": [
      "2----------\n",
      "one two three\n"
     ]
    }
   ],
   "source": [
    "# Use end = ''\n",
    "print('2----------')\n",
    "print('one',end=' ')\n",
    "print('two',end=' ')\n",
    "print('three')"
   ]
  },
  {
   "cell_type": "code",
   "execution_count": 37,
   "metadata": {},
   "outputs": [
    {
     "name": "stdout",
     "output_type": "stream",
     "text": [
      "3----------\n",
      "onetwothree\n"
     ]
    }
   ],
   "source": [
    "print('3----------')\n",
    "print('one',end='')\n",
    "print('two',end='')\n",
    "print('three')"
   ]
  },
  {
   "cell_type": "code",
   "execution_count": 38,
   "metadata": {},
   "outputs": [
    {
     "name": "stdout",
     "output_type": "stream",
     "text": [
      "4----------\n",
      "one two three\n"
     ]
    }
   ],
   "source": [
    "print('4----------')\n",
    "print('one', 'two',  'three')"
   ]
  },
  {
   "cell_type": "code",
   "execution_count": 40,
   "metadata": {},
   "outputs": [
    {
     "name": "stdout",
     "output_type": "stream",
     "text": [
      "5----------\n",
      "one***two***three\n"
     ]
    }
   ],
   "source": [
    "print('5----------')\n",
    "print('one', 'two',  'three', sep='***')"
   ]
  },
  {
   "cell_type": "code",
   "execution_count": 41,
   "metadata": {},
   "outputs": [
    {
     "name": "stdout",
     "output_type": "stream",
     "text": [
      "6----------\n",
      "one*two*three\n",
      "7----------\n",
      "one~~~two~~~three\n"
     ]
    }
   ],
   "source": [
    "# Use other seperator\n",
    "\n",
    "print('6----------')\n",
    "print('one', 'two',  'three', sep='*')\n",
    "\n",
    "print('7----------')\n",
    "print('one', 'two',  'three', sep='~~~')"
   ]
  },
  {
   "cell_type": "code",
   "execution_count": 43,
   "metadata": {},
   "outputs": [
    {
     "name": "stdout",
     "output_type": "stream",
     "text": [
      "Monday\n",
      "Tuesday\n",
      "Monday\tTuesday\n",
      "Monday's class\n",
      "Monday's \"class\"\n"
     ]
    }
   ],
   "source": [
    "# Page 67\n",
    "# Escape Characters  \n",
    "# \\n : new line\n",
    "# \\t :\n",
    "# \\' \\\" \\\\\n",
    "print('Monday\\nTuesday');\n",
    "print('Monday\\tTuesday');\n",
    "print('Monday\\'s class');\n",
    "print('Monday\\'s \\\"class\\\"')"
   ]
  },
  {
   "cell_type": "code",
   "execution_count": 44,
   "metadata": {},
   "outputs": [
    {
     "name": "stdout",
     "output_type": "stream",
     "text": [
      "Monday's \"class\"\n",
      "C:\\CI245\\ClassDemo\n"
     ]
    }
   ],
   "source": [
    "#\n",
    "print('Monday\\'s \"class\"')\n",
    "\n",
    "# Use  \\\\\n",
    "print('C:\\\\CI245\\\\ClassDemo')"
   ]
  },
  {
   "cell_type": "code",
   "execution_count": 45,
   "metadata": {},
   "outputs": [
    {
     "name": "stdout",
     "output_type": "stream",
     "text": [
      "Monday Tuesday\n",
      "MondayTuesday\n",
      "Monday Tuesday\n"
     ]
    }
   ],
   "source": [
    "# Display with + operator\n",
    "\n",
    "print('Monday', 'Tuesday');\n",
    "print('Monday' + 'Tuesday');\n",
    "print('Monday ' + 'Tuesday');\n"
   ]
  },
  {
   "cell_type": "code",
   "execution_count": 47,
   "metadata": {},
   "outputs": [
    {
     "ename": "TypeError",
     "evalue": "can only concatenate str (not \"int\") to str",
     "output_type": "error",
     "traceback": [
      "\u001b[1;31m---------------------------------------------------------------------------\u001b[0m",
      "\u001b[1;31mTypeError\u001b[0m                                 Traceback (most recent call last)",
      "\u001b[1;32m<ipython-input-47-add242c37236>\u001b[0m in \u001b[0;36m<module>\u001b[1;34m\u001b[0m\n\u001b[0;32m      1\u001b[0m \u001b[0mincome\u001b[0m \u001b[1;33m=\u001b[0m \u001b[1;36m42000\u001b[0m\u001b[1;33m\u001b[0m\u001b[1;33m\u001b[0m\u001b[0m\n\u001b[0;32m      2\u001b[0m \u001b[1;31m# Error\u001b[0m\u001b[1;33m\u001b[0m\u001b[1;33m\u001b[0m\u001b[1;33m\u001b[0m\u001b[0m\n\u001b[1;32m----> 3\u001b[1;33m \u001b[0mprint\u001b[0m\u001b[1;33m(\u001b[0m\u001b[1;34m'Income:'\u001b[0m \u001b[1;33m+\u001b[0m \u001b[1;36m12000\u001b[0m\u001b[1;33m)\u001b[0m\u001b[1;33m\u001b[0m\u001b[1;33m\u001b[0m\u001b[0m\n\u001b[0m\u001b[0;32m      4\u001b[0m \u001b[0mprint\u001b[0m\u001b[1;33m(\u001b[0m\u001b[1;34m'Income:'\u001b[0m \u001b[1;33m+\u001b[0m \u001b[0mincome\u001b[0m\u001b[1;33m)\u001b[0m\u001b[1;33m\u001b[0m\u001b[1;33m\u001b[0m\u001b[0m\n",
      "\u001b[1;31mTypeError\u001b[0m: can only concatenate str (not \"int\") to str"
     ]
    }
   ],
   "source": [
    "income = 42000\n",
    "# Error\n",
    "print('Income:' + 12000)\n",
    "print('Income:' + income)"
   ]
  },
  {
   "cell_type": "code",
   "execution_count": 48,
   "metadata": {},
   "outputs": [
    {
     "name": "stdout",
     "output_type": "stream",
     "text": [
      "Income: $42000\n",
      "Income: $12000\n"
     ]
    }
   ],
   "source": [
    "income = 42000\n",
    "\n",
    "# Correct\n",
    "print('Income: $' + str(income))\n",
    "print('Income: $' + str(12000))"
   ]
  },
  {
   "cell_type": "code",
   "execution_count": 49,
   "metadata": {},
   "outputs": [
    {
     "name": "stdout",
     "output_type": "stream",
     "text": [
      "123.46\n",
      "123.5\n",
      "123\n"
     ]
    }
   ],
   "source": [
    "# Formating\n",
    "\n",
    "x = 123.456\n",
    "print(format(x, '.2f'))  \n",
    "print(format(x, '.1f'))  \n",
    "print(format(x, '.0f'))  "
   ]
  },
  {
   "cell_type": "code",
   "execution_count": 50,
   "metadata": {},
   "outputs": [
    {
     "name": "stdout",
     "output_type": "stream",
     "text": [
      "\n",
      "----------\n",
      "1,234.56\n",
      "1,234.6\n",
      "1,235\n"
     ]
    }
   ],
   "source": [
    "#inserting comma separator\n",
    "print('\\n----------')\n",
    "x = 1234.56\n",
    "print(format(x, ',.2f'))  # show 12,345.68\n",
    "print(format(x, ',.1f'))  # show 123.5\n",
    "print(format(x, ',.0f'))  # show 123"
   ]
  },
  {
   "cell_type": "code",
   "execution_count": 52,
   "metadata": {},
   "outputs": [
    {
     "name": "stdout",
     "output_type": "stream",
     "text": [
      "12.340000%\n",
      "12%\n",
      "12.3%\n",
      "12.34%\n",
      "12.340%\n"
     ]
    }
   ],
   "source": [
    "# percentage\n",
    "x = 0.1234\n",
    "print(format(x, '%'))\n",
    "print(format(x, '.0%'))\n",
    "print(format(x, '.1%'))\n",
    "print(format(x, '.2%'))\n",
    "print(format(x, '.3%'))"
   ]
  },
  {
   "cell_type": "code",
   "execution_count": 53,
   "metadata": {},
   "outputs": [
    {
     "name": "stdout",
     "output_type": "stream",
     "text": [
      "12345\n",
      "     12345\n",
      "    12,345\n",
      "    12345\n",
      "   12345\n",
      "  12345\n",
      " 12345\n"
     ]
    }
   ],
   "source": [
    "# integer\n",
    "x = 12345\n",
    "print(format(x, 'd'))\n",
    "print(format(x, '10d'))\n",
    "print(format(x, '10,d'))\n",
    "print(format(x, '9d'))\n",
    "print(format(x, '8d'))\n",
    "print(format(x, '7d'))\n",
    "print(format(x, '6d'))"
   ]
  }
 ],
 "metadata": {
  "kernelspec": {
   "display_name": "Python 3",
   "language": "python",
   "name": "python3"
  },
  "language_info": {
   "codemirror_mode": {
    "name": "ipython",
    "version": 3
   },
   "file_extension": ".py",
   "mimetype": "text/x-python",
   "name": "python",
   "nbconvert_exporter": "python",
   "pygments_lexer": "ipython3",
   "version": "3.7.3"
  }
 },
 "nbformat": 4,
 "nbformat_minor": 2
}
