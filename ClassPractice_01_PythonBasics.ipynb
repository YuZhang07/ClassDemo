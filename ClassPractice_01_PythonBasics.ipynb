{
 "cells": [
  {
   "cell_type": "code",
   "execution_count": 1,
   "metadata": {},
   "outputs": [
    {
     "name": "stdout",
     "output_type": "stream",
     "text": [
      "Enter salary: 30000\n",
      "Enter bonus rate: 0.20\n",
      "Your total pay is: 36000.0\n"
     ]
    }
   ],
   "source": [
    "# Ch2 Input - Ouput\n",
    "\n",
    "# Program 2-14\n",
    "# pay = salary + bonus\n",
    "\n",
    "# Input salary\n",
    "salary = float(input('Enter salary: '))\n",
    "\n",
    "# Input bonus rate\n",
    "bonus_rate = float(input('Enter bonus rate: '))\n",
    "\n",
    "# Computer total_pay\n",
    "total_pay = salary* (1+bonus_rate)\n",
    "\n",
    "print('Your total pay is:', total_pay)"
   ]
  },
  {
   "cell_type": "markdown",
   "metadata": {},
   "source": [
    "Ch03 Decision - if ... else\n",
    "\n",
    "Problem 2: Age Classifier (Page 152)\n",
    "Write a program that ask the user to enter a per's age. The program should display a message indicate whether the person is:\n",
    "infant, child, teenager, or adult.\n",
    "Age \n",
    "         0 - <=1    infant\n",
    "    >1  and <= 13   child\n",
    "    >13 and <= 20   teenager\n",
    "    >20             adult"
   ]
  },
  {
   "cell_type": "code",
   "execution_count": 8,
   "metadata": {},
   "outputs": [
    {
     "name": "stdout",
     "output_type": "stream",
     "text": [
      "Please enter customer age: \n",
      "20\n",
      "teenage\n"
     ]
    }
   ],
   "source": [
    "age = int(input('Please enter customer age: \\n'))\n",
    "label ='**'\n",
    "\n",
    "# Write if ... else code here\n",
    "\n",
    "print(label)"
   ]
  },
  {
   "cell_type": "code",
   "execution_count": 3,
   "metadata": {},
   "outputs": [
    {
     "name": "stdout",
     "output_type": "stream",
     "text": [
      "kph \t mph\n",
      "30 \t 18.0\n",
      "40 \t 24.0\n",
      "50 \t 30.0\n",
      "60 \t 36.0\n",
      "70 \t 42.0\n",
      "80 \t 48.0\n",
      "90 \t 54.0\n",
      "100 \t 60.0\n",
      "110 \t 66.0\n",
      "120 \t 72.0\n",
      "130 \t 78.0\n"
     ]
    }
   ],
   "source": [
    "Ch04 Loop\n",
    "\n",
    "# Program 4-9 - Use loop\n",
    "\n",
    "# Conver speeds 60 kph to 130 kph (in 10 kph increments) to mph\n",
    "\n",
    "#Program 4-9\n",
    "START =30\n",
    "END = 131\n",
    "CONV = 0.6\n",
    "\n",
    "print('kph \\t mph')\n",
    "\n",
    "# Write for loop code here\n"
   ]
  },
  {
   "cell_type": "code",
   "execution_count": 4,
   "metadata": {},
   "outputs": [
    {
     "name": "stdout",
     "output_type": "stream",
     "text": [
      "5050\n"
     ]
    }
   ],
   "source": [
    "# Page 203\n",
    "# Write a for loop to compute the sum of numbers from 1, 2, 3 to 100\n",
    "\n",
    "sum = 0\n",
    "\n",
    "\n",
    "print(sum)"
   ]
  },
  {
   "cell_type": "code",
   "execution_count": null,
   "metadata": {},
   "outputs": [],
   "source": [
    "Ch05 Functions"
   ]
  },
  {
   "cell_type": "code",
   "execution_count": 1,
   "metadata": {},
   "outputs": [
    {
     "data": {
      "text/plain": [
       "5050"
      ]
     },
     "execution_count": 1,
     "metadata": {},
     "output_type": "execute_result"
    }
   ],
   "source": [
    "# 1) Write a function to find sum of 1... to 100\n",
    "\n",
    "def findSum(n):\n",
    "\n",
    "\n",
    "findSum(100)"
   ]
  },
  {
   "cell_type": "code",
   "execution_count": 8,
   "metadata": {},
   "outputs": [
    {
     "name": "stdout",
     "output_type": "stream",
     "text": [
      "max= 819 min 0\n",
      "max= 967 min 0\n",
      "max= 995 min 0\n"
     ]
    }
   ],
   "source": [
    "import random\n",
    "# 1) Write a function to generate N int random numbers of range 0 to 1000, and return max and min nuber,\n",
    "# Test the function by using 10 int random numbers of range 0 to 1000\n",
    "# Test the function by using 50 int random numbers of range 0 to 1000\n",
    "# Test the function by using 100 int random numbers of range 0 to 1000\n",
    "\n",
    "# find min, max\n",
    "def find_max_min(n):\n",
    "    max = 0\n",
    "    min = 0\n",
    "    for i in range(0,n ):\n",
    "        num = random.randint(0,1000)\n",
    "        #print(num, end='')\n",
    "        if(num>max):\n",
    "            max = num\n",
    "        \n",
    "        if (num < min):\n",
    "            min = num\n",
    "    return max, min\n",
    "\n",
    "#Invoke func\n",
    "x, y = find_max_min(10)\n",
    "print('max=',x,'min',y)\n",
    "x, y = find_max_min(50)\n",
    "print('max=',x,'min',y)\n",
    "x, y = find_max_min(100)\n",
    "print('max=',x,'min',y)"
   ]
  }
 ],
 "metadata": {
  "kernelspec": {
   "display_name": "Python 3",
   "language": "python",
   "name": "python3"
  },
  "language_info": {
   "codemirror_mode": {
    "name": "ipython",
    "version": 3
   },
   "file_extension": ".py",
   "mimetype": "text/x-python",
   "name": "python",
   "nbconvert_exporter": "python",
   "pygments_lexer": "ipython3",
   "version": "3.7.3"
  }
 },
 "nbformat": 4,
 "nbformat_minor": 2
}
