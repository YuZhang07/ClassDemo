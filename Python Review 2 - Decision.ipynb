{
 "cells": [
  {
   "cell_type": "code",
   "execution_count": 2,
   "metadata": {},
   "outputs": [
    {
     "name": "stdout",
     "output_type": "stream",
     "text": [
      "Enter work hours: 42\n",
      "Enter pay rate: 10\n",
      "Your pay is $ 430.0\n"
     ]
    }
   ],
   "source": [
    "# chapter 3 Decision\n",
    "\n",
    "# Program 3-2  - Use if ... else\n",
    "\n",
    "BASE_HOURS = 40\n",
    "\n",
    "# Get input\n",
    "hours = int(input('Enter work hours: '))\n",
    "pay_rate = int(input('Enter pay rate: '))\n",
    "\n",
    "if hours >= BASE_HOURS:\n",
    "    pay = BASE_HOURS*pay_rate + (hours - BASE_HOURS)*pay_rate*1.5\n",
    "else:\n",
    "    pay = hours*pay_rate\n",
    "\n",
    "print('Your pay is $' ,pay)"
   ]
  },
  {
   "cell_type": "code",
   "execution_count": 7,
   "metadata": {},
   "outputs": [
    {
     "name": "stdout",
     "output_type": "stream",
     "text": [
      "Enter salary: 35000\n",
      "Enter years: 1\n",
      "No, year\n"
     ]
    }
   ],
   "source": [
    "# Program 3-5 - credit card\n",
    "# nested if... else\n",
    "\n",
    "MIN_SALARY = 30000\n",
    "MIN_YEARS = 2\n",
    "\n",
    "salary = float(input('Enter salary: '))\n",
    "years = int(input('Enter years: '))\n",
    "\n",
    "if salary >= MIN_SALARY:\n",
    "    if years >= MIN_YEARS:\n",
    "        print('Yes')\n",
    "    else:\n",
    "        print('No, year')\n",
    "else:\n",
    "    print('No, low salary')"
   ]
  },
  {
   "cell_type": "code",
   "execution_count": 8,
   "metadata": {},
   "outputs": [
    {
     "name": "stdout",
     "output_type": "stream",
     "text": [
      "Enter score78\n",
      "C\n"
     ]
    }
   ],
   "source": [
    "# Program 3-6 -- grade\n",
    "# if...elif...\n",
    "\n",
    "score = float(input('Enter score'))\n",
    "\n",
    "if score >= 90:\n",
    "    print('A')\n",
    "elif score >= 80:\n",
    "    print('B')\n",
    "elif score >= 70:\n",
    "    print('C')\n",
    "elif score >= 60:\n",
    "    print('D')\n",
    "else:\n",
    "    print('F')"
   ]
  },
  {
   "cell_type": "code",
   "execution_count": 1,
   "metadata": {},
   "outputs": [
    {
     "name": "stdout",
     "output_type": "stream",
     "text": [
      "Enter salary: 35000\n",
      "Enter years: 1\n",
      "No\n",
      "\n",
      "===================\n",
      "Yes\n"
     ]
    }
   ],
   "source": [
    "MIN_SALARY = 30000\n",
    "MIN_YEARS = 2\n",
    "\n",
    "salary = float(input('Enter salary: '))\n",
    "years = int(input('Enter years: '))\n",
    "\n",
    "if salary >= MIN_SALARY and years >= MIN_YEARS:\n",
    "    print('Yes')\n",
    "else:\n",
    "    print('No')"
   ]
  },
  {
   "cell_type": "code",
   "execution_count": null,
   "metadata": {},
   "outputs": [],
   "source": [
    "print('\\n===================')\n",
    "if salary >= MIN_SALARY or years >= MIN_YEARS:\n",
    "    print('Yes')\n",
    "else:\n",
    "    print('No')"
   ]
  }
 ],
 "metadata": {
  "kernelspec": {
   "display_name": "Python 3",
   "language": "python",
   "name": "python3"
  },
  "language_info": {
   "codemirror_mode": {
    "name": "ipython",
    "version": 3
   },
   "file_extension": ".py",
   "mimetype": "text/x-python",
   "name": "python",
   "nbconvert_exporter": "python",
   "pygments_lexer": "ipython3",
   "version": "3.7.3"
  }
 },
 "nbformat": 4,
 "nbformat_minor": 2
}
