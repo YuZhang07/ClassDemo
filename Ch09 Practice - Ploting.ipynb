{
 "cells": [
  {
   "cell_type": "markdown",
   "metadata": {},
   "source": [
    "# 09 Ploting"
   ]
  },
  {
   "cell_type": "code",
   "execution_count": 20,
   "metadata": {},
   "outputs": [],
   "source": [
    "%matplotlib inline\n",
    "import pandas as pd\n",
    "import matplotlib.pyplot as plt"
   ]
  },
  {
   "cell_type": "code",
   "execution_count": 3,
   "metadata": {},
   "outputs": [],
   "source": [
    "data = pd.read_csv('data/GameSalary.csv')"
   ]
  },
  {
   "cell_type": "code",
   "execution_count": 4,
   "metadata": {},
   "outputs": [
    {
     "data": {
      "text/html": [
       "<div>\n",
       "<style scoped>\n",
       "    .dataframe tbody tr th:only-of-type {\n",
       "        vertical-align: middle;\n",
       "    }\n",
       "\n",
       "    .dataframe tbody tr th {\n",
       "        vertical-align: top;\n",
       "    }\n",
       "\n",
       "    .dataframe thead th {\n",
       "        text-align: right;\n",
       "    }\n",
       "</style>\n",
       "<table border=\"1\" class=\"dataframe\">\n",
       "  <thead>\n",
       "    <tr style=\"text-align: right;\">\n",
       "      <th></th>\n",
       "      <th>ID</th>\n",
       "      <th>Last Name</th>\n",
       "      <th>First Name</th>\n",
       "      <th>Gender</th>\n",
       "      <th>Department</th>\n",
       "      <th>Title</th>\n",
       "      <th>Salary</th>\n",
       "      <th>Performance</th>\n",
       "    </tr>\n",
       "  </thead>\n",
       "  <tbody>\n",
       "    <tr>\n",
       "      <th>0</th>\n",
       "      <td>10000</td>\n",
       "      <td>Aikman</td>\n",
       "      <td>Gary</td>\n",
       "      <td>F</td>\n",
       "      <td>Sound Design</td>\n",
       "      <td>Senior Sound Designer</td>\n",
       "      <td>67000</td>\n",
       "      <td>Average</td>\n",
       "    </tr>\n",
       "    <tr>\n",
       "      <th>1</th>\n",
       "      <td>10387</td>\n",
       "      <td>Felser</td>\n",
       "      <td>Cynthia</td>\n",
       "      <td>F</td>\n",
       "      <td>Animation</td>\n",
       "      <td>Lead Animator</td>\n",
       "      <td>80000</td>\n",
       "      <td>Good</td>\n",
       "    </tr>\n",
       "    <tr>\n",
       "      <th>2</th>\n",
       "      <td>10552</td>\n",
       "      <td>Leslie</td>\n",
       "      <td>Jean</td>\n",
       "      <td>F</td>\n",
       "      <td>Art</td>\n",
       "      <td>Artist</td>\n",
       "      <td>45250</td>\n",
       "      <td>Average</td>\n",
       "    </tr>\n",
       "    <tr>\n",
       "      <th>3</th>\n",
       "      <td>10936</td>\n",
       "      <td>Cusak</td>\n",
       "      <td>Barbara</td>\n",
       "      <td>F</td>\n",
       "      <td>Programming</td>\n",
       "      <td>Programmer</td>\n",
       "      <td>70125</td>\n",
       "      <td>Average</td>\n",
       "    </tr>\n",
       "    <tr>\n",
       "      <th>4</th>\n",
       "      <td>11048</td>\n",
       "      <td>Noble</td>\n",
       "      <td>Linda</td>\n",
       "      <td>M</td>\n",
       "      <td>Game Design</td>\n",
       "      <td>Senior Game Designer</td>\n",
       "      <td>72500</td>\n",
       "      <td>Excellent</td>\n",
       "    </tr>\n",
       "    <tr>\n",
       "      <th>...</th>\n",
       "      <td>...</td>\n",
       "      <td>...</td>\n",
       "      <td>...</td>\n",
       "      <td>...</td>\n",
       "      <td>...</td>\n",
       "      <td>...</td>\n",
       "      <td>...</td>\n",
       "      <td>...</td>\n",
       "    </tr>\n",
       "    <tr>\n",
       "      <th>88</th>\n",
       "      <td>26679</td>\n",
       "      <td>Whiting</td>\n",
       "      <td>Sarah</td>\n",
       "      <td>F</td>\n",
       "      <td>Animation</td>\n",
       "      <td>Animator</td>\n",
       "      <td>52500</td>\n",
       "      <td>Good</td>\n",
       "    </tr>\n",
       "    <tr>\n",
       "      <th>89</th>\n",
       "      <td>26813</td>\n",
       "      <td>Denver</td>\n",
       "      <td>Jan</td>\n",
       "      <td>F</td>\n",
       "      <td>Programming</td>\n",
       "      <td>Programmer</td>\n",
       "      <td>58400</td>\n",
       "      <td>Average</td>\n",
       "    </tr>\n",
       "    <tr>\n",
       "      <th>90</th>\n",
       "      <td>26896</td>\n",
       "      <td>Bermont</td>\n",
       "      <td>Thomas</td>\n",
       "      <td>M</td>\n",
       "      <td>Programming</td>\n",
       "      <td>Lead Programmer</td>\n",
       "      <td>120000</td>\n",
       "      <td>Excellent</td>\n",
       "    </tr>\n",
       "    <tr>\n",
       "      <th>91</th>\n",
       "      <td>27244</td>\n",
       "      <td>De Maria</td>\n",
       "      <td>Cristi</td>\n",
       "      <td>F</td>\n",
       "      <td>Programming</td>\n",
       "      <td>Programmer</td>\n",
       "      <td>90000</td>\n",
       "      <td>Excellent</td>\n",
       "    </tr>\n",
       "    <tr>\n",
       "      <th>92</th>\n",
       "      <td>27474</td>\n",
       "      <td>Elway</td>\n",
       "      <td>William</td>\n",
       "      <td>M</td>\n",
       "      <td>Programming</td>\n",
       "      <td>Programmer</td>\n",
       "      <td>75000</td>\n",
       "      <td>Good</td>\n",
       "    </tr>\n",
       "  </tbody>\n",
       "</table>\n",
       "<p>93 rows × 8 columns</p>\n",
       "</div>"
      ],
      "text/plain": [
       "       ID Last Name First Name Gender    Department                  Title  \\\n",
       "0   10000    Aikman       Gary      F  Sound Design  Senior Sound Designer   \n",
       "1   10387    Felser    Cynthia      F     Animation          Lead Animator   \n",
       "2   10552    Leslie       Jean      F           Art                 Artist   \n",
       "3   10936     Cusak    Barbara      F   Programming             Programmer   \n",
       "4   11048     Noble      Linda      M   Game Design   Senior Game Designer   \n",
       "..    ...       ...        ...    ...           ...                    ...   \n",
       "88  26679   Whiting      Sarah      F     Animation               Animator   \n",
       "89  26813    Denver        Jan      F   Programming             Programmer   \n",
       "90  26896   Bermont     Thomas      M   Programming        Lead Programmer   \n",
       "91  27244  De Maria     Cristi      F   Programming             Programmer   \n",
       "92  27474     Elway    William      M   Programming             Programmer   \n",
       "\n",
       "    Salary Performance  \n",
       "0    67000     Average  \n",
       "1    80000        Good  \n",
       "2    45250     Average  \n",
       "3    70125     Average  \n",
       "4    72500   Excellent  \n",
       "..     ...         ...  \n",
       "88   52500        Good  \n",
       "89   58400     Average  \n",
       "90  120000   Excellent  \n",
       "91   90000   Excellent  \n",
       "92   75000        Good  \n",
       "\n",
       "[93 rows x 8 columns]"
      ]
     },
     "execution_count": 4,
     "metadata": {},
     "output_type": "execute_result"
    }
   ],
   "source": [
    "# limiting the display rows\n",
    "pd.set_option('display.max_rows', 10)\n",
    "data"
   ]
  },
  {
   "cell_type": "code",
   "execution_count": 4,
   "metadata": {},
   "outputs": [
    {
     "data": {
      "text/html": [
       "<div>\n",
       "<style scoped>\n",
       "    .dataframe tbody tr th:only-of-type {\n",
       "        vertical-align: middle;\n",
       "    }\n",
       "\n",
       "    .dataframe tbody tr th {\n",
       "        vertical-align: top;\n",
       "    }\n",
       "\n",
       "    .dataframe thead th {\n",
       "        text-align: right;\n",
       "    }\n",
       "</style>\n",
       "<table border=\"1\" class=\"dataframe\">\n",
       "  <thead>\n",
       "    <tr style=\"text-align: right;\">\n",
       "      <th></th>\n",
       "      <th>ID</th>\n",
       "      <th>Last Name</th>\n",
       "      <th>First Name</th>\n",
       "      <th>Gender</th>\n",
       "      <th>Department</th>\n",
       "      <th>Title</th>\n",
       "      <th>Salary</th>\n",
       "      <th>Performance</th>\n",
       "    </tr>\n",
       "  </thead>\n",
       "  <tbody>\n",
       "    <tr>\n",
       "      <th>0</th>\n",
       "      <td>10000</td>\n",
       "      <td>Aikman</td>\n",
       "      <td>Gary</td>\n",
       "      <td>F</td>\n",
       "      <td>Sound Design</td>\n",
       "      <td>Senior Sound Designer</td>\n",
       "      <td>67000</td>\n",
       "      <td>Average</td>\n",
       "    </tr>\n",
       "    <tr>\n",
       "      <th>1</th>\n",
       "      <td>10387</td>\n",
       "      <td>Felser</td>\n",
       "      <td>Cynthia</td>\n",
       "      <td>F</td>\n",
       "      <td>Animation</td>\n",
       "      <td>Lead Animator</td>\n",
       "      <td>80000</td>\n",
       "      <td>Good</td>\n",
       "    </tr>\n",
       "    <tr>\n",
       "      <th>2</th>\n",
       "      <td>10552</td>\n",
       "      <td>Leslie</td>\n",
       "      <td>Jean</td>\n",
       "      <td>F</td>\n",
       "      <td>Art</td>\n",
       "      <td>Artist</td>\n",
       "      <td>45250</td>\n",
       "      <td>Average</td>\n",
       "    </tr>\n",
       "    <tr>\n",
       "      <th>3</th>\n",
       "      <td>10936</td>\n",
       "      <td>Cusak</td>\n",
       "      <td>Barbara</td>\n",
       "      <td>F</td>\n",
       "      <td>Programming</td>\n",
       "      <td>Programmer</td>\n",
       "      <td>70125</td>\n",
       "      <td>Average</td>\n",
       "    </tr>\n",
       "    <tr>\n",
       "      <th>4</th>\n",
       "      <td>11048</td>\n",
       "      <td>Noble</td>\n",
       "      <td>Linda</td>\n",
       "      <td>M</td>\n",
       "      <td>Game Design</td>\n",
       "      <td>Senior Game Designer</td>\n",
       "      <td>72500</td>\n",
       "      <td>Excellent</td>\n",
       "    </tr>\n",
       "  </tbody>\n",
       "</table>\n",
       "</div>"
      ],
      "text/plain": [
       "      ID Last Name First Name Gender    Department                  Title  \\\n",
       "0  10000    Aikman       Gary      F  Sound Design  Senior Sound Designer   \n",
       "1  10387    Felser    Cynthia      F     Animation          Lead Animator   \n",
       "2  10552    Leslie       Jean      F           Art                 Artist   \n",
       "3  10936     Cusak    Barbara      F   Programming             Programmer   \n",
       "4  11048     Noble      Linda      M   Game Design   Senior Game Designer   \n",
       "\n",
       "   Salary Performance  \n",
       "0   67000     Average  \n",
       "1   80000        Good  \n",
       "2   45250     Average  \n",
       "3   70125     Average  \n",
       "4   72500   Excellent  "
      ]
     },
     "execution_count": 4,
     "metadata": {},
     "output_type": "execute_result"
    }
   ],
   "source": [
    "data.head()"
   ]
  },
  {
   "cell_type": "code",
   "execution_count": 5,
   "metadata": {},
   "outputs": [
    {
     "data": {
      "text/plain": [
       "(93, 8)"
      ]
     },
     "execution_count": 5,
     "metadata": {},
     "output_type": "execute_result"
    }
   ],
   "source": [
    "data.shape"
   ]
  },
  {
   "cell_type": "code",
   "execution_count": 6,
   "metadata": {},
   "outputs": [
    {
     "data": {
      "text/plain": [
       "Index(['ID', 'Last Name', 'First Name', 'Gender', 'Department', 'Title',\n",
       "       'Salary', 'Performance'],\n",
       "      dtype='object')"
      ]
     },
     "execution_count": 6,
     "metadata": {},
     "output_type": "execute_result"
    }
   ],
   "source": [
    "data.columns"
   ]
  },
  {
   "cell_type": "code",
   "execution_count": 6,
   "metadata": {},
   "outputs": [
    {
     "name": "stdout",
     "output_type": "stream",
     "text": [
      "Programmer           19\n",
      "Artist               14\n",
      "Animator             12\n",
      "Senior Artist        10\n",
      "QA Tester             8\n",
      "Sound Designer        5\n",
      "Senior Programmer     5\n",
      "Senior Animator       4\n",
      "Name: Title, dtype: int64\n"
     ]
    }
   ],
   "source": [
    "df = data\n",
    "res = df.Title.value_counts().head(8)\n",
    "print(res)\n"
   ]
  },
  {
   "cell_type": "code",
   "execution_count": 7,
   "metadata": {},
   "outputs": [
    {
     "name": "stdout",
     "output_type": "stream",
     "text": [
      "Programmer                   19\n",
      "Artist                       14\n",
      "Animator                     12\n",
      "Senior Artist                10\n",
      "QA Tester                     8\n",
      "                             ..\n",
      "Lead Animator                 1\n",
      "Lead QA Tester                1\n",
      "Lead Sound Designer           1\n",
      "Producer: Product Manager     1\n",
      "Executive Producer            1\n",
      "Name: Title, Length: 20, dtype: int64\n",
      "Index(['Programmer', 'Artist', 'Animator', 'Senior Artist', 'QA Tester',\n",
      "       'Sound Designer', 'Senior Programmer', 'Senior Animator',\n",
      "       'Senior QA Tester', 'Senior Sound Designer', 'Game Designer',\n",
      "       'Senior Game Designer', 'Lead Game Designer', 'Lead Programmer',\n",
      "       'Lead Artist', 'Lead Animator', 'Lead QA Tester', 'Lead Sound Designer',\n",
      "       'Producer: Product Manager', 'Executive Producer'],\n",
      "      dtype='object')\n",
      "[19 14 12 10  8  5  5  4  2  2  2  2  1  1  1  1  1  1  1  1]\n"
     ]
    },
    {
     "data": {
      "text/plain": [
       "Programmer       19\n",
       "Artist           14\n",
       "Animator         12\n",
       "Senior Artist    10\n",
       "QA Tester         8\n",
       "Name: Title, dtype: int64"
      ]
     },
     "execution_count": 7,
     "metadata": {},
     "output_type": "execute_result"
    }
   ],
   "source": [
    "s = df.Title.value_counts()   # Get series\n",
    "print(s)\n",
    "print(s.index)\n",
    "print(s.values)\n",
    "\n",
    "s1 = s[s.values >5]\n",
    "s1"
   ]
  },
  {
   "cell_type": "code",
   "execution_count": 27,
   "metadata": {},
   "outputs": [
    {
     "name": "stdout",
     "output_type": "stream",
     "text": [
      "Art                  25\n",
      "Programming          25\n",
      "Animation            17\n",
      "Quality Assurance    11\n",
      "Sound Design          8\n",
      "Game Design           5\n",
      "Production            2\n",
      "Name: Department, dtype: int64\n"
     ]
    },
    {
     "data": {
      "text/plain": [
       "<matplotlib.axes._subplots.AxesSubplot at 0x1d625efba90>"
      ]
     },
     "execution_count": 27,
     "metadata": {},
     "output_type": "execute_result"
    },
    {
     "data": {
      "image/png": "[encoded data removed]",
      "text/plain": [
       "<Figure size 720x720 with 1 Axes>"
      ]
     },
     "metadata": {
      "needs_background": "light"
     },
     "output_type": "display_data"
    }
   ],
   "source": [
    "df = data\n",
    "res = df.Department.value_counts().head(8)\n",
    "print(res)\n",
    "plt.rc('figure', figsize=(10, 10))\n",
    "\n",
    "#ticks = ax.set_xticks([0, 250, 500, 750, 1000])\n",
    "#labels = ax.set_xticklabels(['one', 'two', 'three', 'four', 'five'], rotation=30, fontsize='small')\n",
    "\n",
    "# Add title\n",
    "plt.title('Employees in Each Department')\n",
    "\n",
    "# Add labels\n",
    "plt.ylabel('Number')\n",
    "plt.xlabel('Department', color='b',fontsize='small')\n",
    "\n",
    "res.plot(kind='bar', rot=45, color='r', alpha=0.5)\n"
   ]
  },
  {
   "cell_type": "code",
   "execution_count": 15,
   "metadata": {},
   "outputs": [
    {
     "data": {
      "text/plain": [
       "<matplotlib.axes._subplots.AxesSubplot at 0x1d6245b16a0>"
      ]
     },
     "execution_count": 15,
     "metadata": {},
     "output_type": "execute_result"
    },
    {
     "data": {
      "image/png": "[encoded data removed]",
      "text/plain": [
       "<Figure size 432x288 with 1 Axes>"
      ]
     },
     "metadata": {
      "needs_background": "light"
     },
     "output_type": "display_data"
    }
   ],
   "source": [
    "res1 = res.sort_index()\n",
    "res1.plot(kind='bar',title = 'Employees in Each Department')"
   ]
  },
  {
   "cell_type": "code",
   "execution_count": 17,
   "metadata": {},
   "outputs": [
    {
     "data": {
      "text/plain": [
       "<matplotlib.axes._subplots.AxesSubplot at 0x1d6246016d8>"
      ]
     },
     "execution_count": 17,
     "metadata": {},
     "output_type": "execute_result"
    },
    {
     "data": {
      "image/png": "[encoded data removed]",
      "text/plain": [
       "<Figure size 432x288 with 1 Axes>"
      ]
     },
     "metadata": {
      "needs_background": "light"
     },
     "output_type": "display_data"
    }
   ],
   "source": [
    "res1.plot(kind='line', rot=45,title = 'Employees in Each Department')\n",
    "res1.plot(kind='line', rot=45,title = 'Employees in Each Department',linestyle='dashed', marker='o')"
   ]
  },
  {
   "cell_type": "code",
   "execution_count": 18,
   "metadata": {},
   "outputs": [
    {
     "data": {
      "text/plain": [
       "<matplotlib.axes._subplots.AxesSubplot at 0x1d624657c50>"
      ]
     },
     "execution_count": 18,
     "metadata": {},
     "output_type": "execute_result"
    },
    {
     "data": {
      "image/png": "[encoded data removed]",
      "text/plain": [
       "<Figure size 432x288 with 1 Axes>"
      ]
     },
     "metadata": {},
     "output_type": "display_data"
    }
   ],
   "source": [
    "res1.plot(kind='pie',autopct='%1.1f%%',title = 'Employees in Each Department')"
   ]
  },
  {
   "cell_type": "code",
   "execution_count": null,
   "metadata": {},
   "outputs": [],
   "source": []
  }
 ],
 "metadata": {
  "kernelspec": {
   "display_name": "Python 3",
   "language": "python",
   "name": "python3"
  },
  "language_info": {
   "codemirror_mode": {
    "name": "ipython",
    "version": 3
   },
   "file_extension": ".py",
   "mimetype": "text/x-python",
   "name": "python",
   "nbconvert_exporter": "python",
   "pygments_lexer": "ipython3",
   "version": "3.7.3"
  }
 },
 "nbformat": 4,
 "nbformat_minor": 2
}
