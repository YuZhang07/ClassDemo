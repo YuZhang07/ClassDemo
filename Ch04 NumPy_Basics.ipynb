{
 "cells": [
  {
   "cell_type": "code",
   "execution_count": 1,
   "metadata": {},
   "outputs": [
    {
     "name": "stdout",
     "output_type": "stream",
     "text": [
      "Wall time: 26.1 ms\n",
      "Wall time: 409 ms\n"
     ]
    }
   ],
   "source": [
    "# Ch04 NumPy Basics: Array and Vectorized Computation\n",
    "\n",
    "# NumPy, short for Numerical Python, \n",
    "# is one of the most important foundational packages for numerical computing in Python. \n",
    "# Numpy is more efficiency on large arrays of data, generally 10 to 100 times fast\n",
    "\n",
    "import numpy as np\n",
    "\n",
    "my_array = np.arange(1000000)\n",
    "\n",
    "my_list = list(range(1000000))\n",
    "\n",
    "%time for _ in range(10): my_array2 = my_array*2\n",
    "\n",
    "%time for _ in range(10): my_list2 = my_list*2"
   ]
  },
  {
   "cell_type": "code",
   "execution_count": null,
   "metadata": {},
   "outputs": [],
   "source": [
    "# 4.1 The NumPy ndarry: A Multidimensional Array Object"
   ]
  },
  {
   "cell_type": "code",
   "execution_count": 2,
   "metadata": {},
   "outputs": [],
   "source": [
    "# Page 88\n",
    "\n",
    "import numpy as np\n",
    "\n",
    "data = np.random.randn(2,3)"
   ]
  },
  {
   "cell_type": "code",
   "execution_count": 3,
   "metadata": {},
   "outputs": [
    {
     "data": {
      "text/plain": [
       "array([[-0.18943887, -0.45165516, -0.28524931],\n",
       "       [ 2.63580682, -0.70136635,  0.66278067]])"
      ]
     },
     "execution_count": 3,
     "metadata": {},
     "output_type": "execute_result"
    }
   ],
   "source": [
    "data"
   ]
  },
  {
   "cell_type": "code",
   "execution_count": 4,
   "metadata": {},
   "outputs": [
    {
     "data": {
      "text/plain": [
       "array([[-1.89438866, -4.51655163, -2.85249308],\n",
       "       [26.35806817, -7.01366351,  6.62780668]])"
      ]
     },
     "execution_count": 4,
     "metadata": {},
     "output_type": "execute_result"
    }
   ],
   "source": [
    "data*10"
   ]
  },
  {
   "cell_type": "code",
   "execution_count": 5,
   "metadata": {},
   "outputs": [
    {
     "data": {
      "text/plain": [
       "array([[-0.37887773, -0.90331033, -0.57049862],\n",
       "       [ 5.27161363, -1.4027327 ,  1.32556134]])"
      ]
     },
     "execution_count": 5,
     "metadata": {},
     "output_type": "execute_result"
    }
   ],
   "source": [
    "data + data"
   ]
  },
  {
   "cell_type": "code",
   "execution_count": 6,
   "metadata": {},
   "outputs": [
    {
     "data": {
      "text/plain": [
       "(2, 3)"
      ]
     },
     "execution_count": 6,
     "metadata": {},
     "output_type": "execute_result"
    }
   ],
   "source": [
    "data.shape"
   ]
  },
  {
   "cell_type": "code",
   "execution_count": 7,
   "metadata": {},
   "outputs": [
    {
     "data": {
      "text/plain": [
       "dtype('float64')"
      ]
     },
     "execution_count": 7,
     "metadata": {},
     "output_type": "execute_result"
    }
   ],
   "source": [
    "data.dtype"
   ]
  },
  {
   "cell_type": "code",
   "execution_count": 8,
   "metadata": {},
   "outputs": [
    {
     "data": {
      "text/plain": [
       "[6, 7.5, 8, 0, 1]"
      ]
     },
     "execution_count": 8,
     "metadata": {},
     "output_type": "execute_result"
    }
   ],
   "source": [
    "\n",
    "# \n",
    "list = [6, 7.5, 8, 0, 1]    # <- data type is list\n",
    "list"
   ]
  },
  {
   "cell_type": "code",
   "execution_count": 9,
   "metadata": {},
   "outputs": [
    {
     "ename": "AttributeError",
     "evalue": "'list' object has no attribute 'dtype'",
     "output_type": "error",
     "traceback": [
      "\u001b[1;31m---------------------------------------------------------------------------\u001b[0m",
      "\u001b[1;31mAttributeError\u001b[0m                            Traceback (most recent call last)",
      "\u001b[1;32m<ipython-input-9-dcb0d28cbb41>\u001b[0m in \u001b[0;36m<module>\u001b[1;34m\u001b[0m\n\u001b[1;32m----> 1\u001b[1;33m \u001b[0mlist\u001b[0m\u001b[1;33m.\u001b[0m\u001b[0mdtype\u001b[0m    \u001b[1;31m# Error, only np array has shape function\u001b[0m\u001b[1;33m\u001b[0m\u001b[1;33m\u001b[0m\u001b[0m\n\u001b[0m",
      "\u001b[1;31mAttributeError\u001b[0m: 'list' object has no attribute 'dtype'"
     ]
    }
   ],
   "source": [
    "list.dtype    # Error, only np array has dtype function"
   ]
  },
  {
   "cell_type": "code",
   "execution_count": 10,
   "metadata": {},
   "outputs": [
    {
     "ename": "AttributeError",
     "evalue": "'list' object has no attribute 'shape'",
     "output_type": "error",
     "traceback": [
      "\u001b[1;31m---------------------------------------------------------------------------\u001b[0m",
      "\u001b[1;31mAttributeError\u001b[0m                            Traceback (most recent call last)",
      "\u001b[1;32m<ipython-input-10-4a8ca6de8bcb>\u001b[0m in \u001b[0;36m<module>\u001b[1;34m\u001b[0m\n\u001b[1;32m----> 1\u001b[1;33m \u001b[0mlist\u001b[0m\u001b[1;33m.\u001b[0m\u001b[0mshape\u001b[0m          \u001b[1;31m# Error, only np array has shape function\u001b[0m\u001b[1;33m\u001b[0m\u001b[1;33m\u001b[0m\u001b[0m\n\u001b[0m",
      "\u001b[1;31mAttributeError\u001b[0m: 'list' object has no attribute 'shape'"
     ]
    }
   ],
   "source": [
    "list.shape          # Error, only np array has shape function"
   ]
  },
  {
   "cell_type": "code",
   "execution_count": 13,
   "metadata": {},
   "outputs": [
    {
     "data": {
      "text/plain": [
       "array([6. , 7.5, 8. , 0. , 1. ])"
      ]
     },
     "execution_count": 13,
     "metadata": {},
     "output_type": "execute_result"
    }
   ],
   "source": [
    "# convert list to array\n",
    "my_array = np.array(list)\n",
    "my_array "
   ]
  },
  {
   "cell_type": "code",
   "execution_count": 14,
   "metadata": {},
   "outputs": [
    {
     "data": {
      "text/plain": [
       "[6, 7.5, 8, 0, 1]"
      ]
     },
     "execution_count": 14,
     "metadata": {},
     "output_type": "execute_result"
    }
   ],
   "source": [
    "list"
   ]
  },
  {
   "cell_type": "code",
   "execution_count": 16,
   "metadata": {},
   "outputs": [
    {
     "data": {
      "text/plain": [
       "(5,)"
      ]
     },
     "execution_count": 16,
     "metadata": {},
     "output_type": "execute_result"
    }
   ],
   "source": [
    "# only show last output\n",
    "my_array\n",
    "my_array.shape"
   ]
  },
  {
   "cell_type": "code",
   "execution_count": 17,
   "metadata": {},
   "outputs": [
    {
     "data": {
      "text/plain": [
       "array([6. , 7.5, 8. , 0. , 1. ])"
      ]
     },
     "execution_count": 17,
     "metadata": {},
     "output_type": "execute_result"
    }
   ],
   "source": [
    "my_array"
   ]
  },
  {
   "cell_type": "code",
   "execution_count": 18,
   "metadata": {},
   "outputs": [
    {
     "data": {
      "text/plain": [
       "(5,)"
      ]
     },
     "execution_count": 18,
     "metadata": {},
     "output_type": "execute_result"
    }
   ],
   "source": [
    "my_array.shape"
   ]
  },
  {
   "cell_type": "code",
   "execution_count": 19,
   "metadata": {},
   "outputs": [
    {
     "name": "stdout",
     "output_type": "stream",
     "text": [
      "[6.  7.5 8.  0.  1. ]\n",
      "(5,)\n"
     ]
    }
   ],
   "source": [
    "# Use print to show all\n",
    "print(my_array)\n",
    "print(my_array.shape)"
   ]
  },
  {
   "cell_type": "code",
   "execution_count": 22,
   "metadata": {},
   "outputs": [
    {
     "name": "stdout",
     "output_type": "stream",
     "text": [
      "[[1, 2, 3], [4, 5, 6]]\n"
     ]
    }
   ],
   "source": [
    "data = [[1,2,3],\n",
    "        [4,5,6]]\n",
    "print(data)\n",
    "#print(data.shape)          # Error, only np array has shape function"
   ]
  },
  {
   "cell_type": "code",
   "execution_count": 23,
   "metadata": {},
   "outputs": [
    {
     "data": {
      "text/plain": [
       "array([[1, 2, 3],\n",
       "       [4, 5, 6]])"
      ]
     },
     "execution_count": 23,
     "metadata": {},
     "output_type": "execute_result"
    }
   ],
   "source": [
    "# convert list to array\n",
    "array2 = np.array(data)\n",
    "array2\n",
    "  "
   ]
  },
  {
   "cell_type": "code",
   "execution_count": 25,
   "metadata": {},
   "outputs": [
    {
     "data": {
      "text/plain": [
       "(2, 3)"
      ]
     },
     "execution_count": 25,
     "metadata": {},
     "output_type": "execute_result"
    }
   ],
   "source": [
    "# Use tab to show all possible functions\n",
    "array2.shape"
   ]
  },
  {
   "cell_type": "code",
   "execution_count": 26,
   "metadata": {},
   "outputs": [
    {
     "data": {
      "text/plain": [
       "[1, 3, 'a']"
      ]
     },
     "execution_count": 26,
     "metadata": {},
     "output_type": "execute_result"
    }
   ],
   "source": [
    "# test list\n",
    "myList =[1, 3, 'a']\n",
    "myList"
   ]
  },
  {
   "cell_type": "code",
   "execution_count": 27,
   "metadata": {},
   "outputs": [
    {
     "name": "stdout",
     "output_type": "stream",
     "text": [
      "int32\n",
      "float64\n",
      "<U11\n"
     ]
    }
   ],
   "source": [
    "#np.array tries to infer a good data type for the array that it creates\n",
    "data = [1,2,3]\n",
    "array3 = np.array(data)\n",
    "\n",
    "data = [1, 2, 3.0]\n",
    "array4 = np.array(data)\n",
    "\n",
    "data = [1,2,3, 'A']\n",
    "array5 = np.array(data)\n",
    "\n",
    "print(array3.dtype)\n",
    "print(array4.dtype)\n",
    "print(array5.dtype)"
   ]
  },
  {
   "cell_type": "code",
   "execution_count": 29,
   "metadata": {},
   "outputs": [
    {
     "name": "stdout",
     "output_type": "stream",
     "text": [
      "[0. 0. 0. 0. 0. 0. 0. 0. 0. 0.]\n",
      "(10,)\n"
     ]
    }
   ],
   "source": [
    "# Page 89\n",
    "# Use zeros, ones , empty to creates arrays\n",
    "#  zeros and ones create arrays of 0s or 1s, \n",
    "# pass a tuple for the shape:\n",
    "\n",
    "my_array = np.zeros(10)\n",
    "print(my_array)\n",
    "print(my_array.shape)\n"
   ]
  },
  {
   "cell_type": "code",
   "execution_count": 30,
   "metadata": {},
   "outputs": [
    {
     "name": "stdout",
     "output_type": "stream",
     "text": [
      "[[0. 0. 0. 0.]\n",
      " [0. 0. 0. 0.]]\n",
      "(2, 4)\n"
     ]
    }
   ],
   "source": [
    "my_array = np.zeros((2,4))\n",
    "print(my_array)\n",
    "print(my_array.shape)"
   ]
  },
  {
   "cell_type": "code",
   "execution_count": 31,
   "metadata": {},
   "outputs": [
    {
     "name": "stdout",
     "output_type": "stream",
     "text": [
      "[[[0. 0.]\n",
      "  [0. 0.]\n",
      "  [0. 0.]]\n",
      "\n",
      " [[0. 0.]\n",
      "  [0. 0.]\n",
      "  [0. 0.]]]\n",
      "(2, 3, 2)\n"
     ]
    }
   ],
   "source": [
    "my_array = np.zeros((2,3,2))\n",
    "print(my_array)\n",
    "print(my_array.shape)"
   ]
  },
  {
   "cell_type": "code",
   "execution_count": 34,
   "metadata": {},
   "outputs": [
    {
     "name": "stdout",
     "output_type": "stream",
     "text": [
      "[1. 1. 1. 1. 1. 1. 1. 1. 1. 1.]\n",
      "(10,)\n"
     ]
    }
   ],
   "source": [
    "my_array = np.ones(10)\n",
    "print(my_array)\n",
    "print(my_array.shape)\n"
   ]
  },
  {
   "cell_type": "code",
   "execution_count": 35,
   "metadata": {},
   "outputs": [
    {
     "name": "stdout",
     "output_type": "stream",
     "text": [
      "[[1. 1. 1. 1. 1.]\n",
      " [1. 1. 1. 1. 1.]]\n",
      "(2, 5)\n"
     ]
    }
   ],
   "source": [
    "my_array = np.ones((2,5))\n",
    "print(my_array)\n",
    "print(my_array.shape)"
   ]
  },
  {
   "cell_type": "code",
   "execution_count": 36,
   "metadata": {},
   "outputs": [
    {
     "name": "stdout",
     "output_type": "stream",
     "text": [
      "[[[1. 1.]\n",
      "  [1. 1.]\n",
      "  [1. 1.]]\n",
      "\n",
      " [[1. 1.]\n",
      "  [1. 1.]\n",
      "  [1. 1.]]]\n",
      "(2, 3, 2)\n"
     ]
    }
   ],
   "source": [
    "my_array = np.ones((2,3,2))\n",
    "print(my_array)\n",
    "print(my_array.shape)"
   ]
  },
  {
   "cell_type": "code",
   "execution_count": 37,
   "metadata": {},
   "outputs": [
    {
     "name": "stdout",
     "output_type": "stream",
     "text": [
      "\n",
      "----------------\n",
      "[1. 1. 1. 1. 1. 1. 1. 1. 1. 1.]\n",
      "(10,)\n",
      "[[1. 1. 1. 1. 1.]\n",
      " [1. 1. 1. 1. 1.]]\n",
      "(2, 5)\n"
     ]
    }
   ],
   "source": [
    "# empty creates an array without initializing its values to any particular value\n",
    "print('\\n----------------')\n",
    "my_array = np.empty(10)\n",
    "print(my_array)\n",
    "print(my_array.shape)\n",
    "\n",
    "my_array = np.empty((2,5))\n",
    "print(my_array)\n",
    "print(my_array.shape)"
   ]
  },
  {
   "cell_type": "code",
   "execution_count": 40,
   "metadata": {},
   "outputs": [
    {
     "name": "stdout",
     "output_type": "stream",
     "text": [
      "range(0, 10)\n"
     ]
    },
    {
     "data": {
      "text/plain": [
       "range(0, 10)"
      ]
     },
     "execution_count": 40,
     "metadata": {},
     "output_type": "execute_result"
    }
   ],
   "source": [
    "# arange is an array- value\n",
    "my_list = range(10)     # < - this is list\n",
    "print(my_list)\n",
    "\n",
    "#my_list.shape      # <-Error\n",
    "my_list"
   ]
  },
  {
   "cell_type": "code",
   "execution_count": 41,
   "metadata": {},
   "outputs": [
    {
     "name": "stdout",
     "output_type": "stream",
     "text": [
      "[0 1 2 3 4 5 6 7 8 9]\n"
     ]
    },
    {
     "data": {
      "text/plain": [
       "(10,)"
      ]
     },
     "execution_count": 41,
     "metadata": {},
     "output_type": "execute_result"
    }
   ],
   "source": [
    "#vs.\n",
    "my_array = np.arange(10)      # < - this is array\n",
    "print(my_array)\n",
    "my_array.shape"
   ]
  },
  {
   "cell_type": "code",
   "execution_count": null,
   "metadata": {},
   "outputs": [],
   "source": [
    "# Page 90 Table 4-1 Array creation functions\n",
    "# array, arange, ones, ones_like, zeros\n"
   ]
  },
  {
   "cell_type": "code",
   "execution_count": 43,
   "metadata": {},
   "outputs": [
    {
     "name": "stdout",
     "output_type": "stream",
     "text": [
      "\n",
      "----------------\n",
      "[1, 2, 3, 4, 5]\n",
      "[1 2 3 5]\n"
     ]
    }
   ],
   "source": [
    "# Page 95 Arithmetic with NumPy Array\n",
    "# list\n",
    "my_list = [1, 2, 3, 4, 5]\n",
    "print(my_list)\n",
    "# np array\n",
    "my_array = np.array([1,2,3,5])\n",
    "print(my_array)\n"
   ]
  },
  {
   "cell_type": "code",
   "execution_count": 44,
   "metadata": {},
   "outputs": [
    {
     "name": "stdout",
     "output_type": "stream",
     "text": [
      "[1, 2, 3, 4, 5]\n"
     ]
    },
    {
     "ename": "TypeError",
     "evalue": "can only concatenate list (not \"int\") to list",
     "output_type": "error",
     "traceback": [
      "\u001b[1;31m---------------------------------------------------------------------------\u001b[0m",
      "\u001b[1;31mTypeError\u001b[0m                                 Traceback (most recent call last)",
      "\u001b[1;32m<ipython-input-44-88c2225958a4>\u001b[0m in \u001b[0;36m<module>\u001b[1;34m\u001b[0m\n\u001b[0;32m      2\u001b[0m \u001b[1;31m# + , *\u001b[0m\u001b[1;33m\u001b[0m\u001b[1;33m\u001b[0m\u001b[1;33m\u001b[0m\u001b[0m\n\u001b[0;32m      3\u001b[0m \u001b[0mprint\u001b[0m\u001b[1;33m(\u001b[0m\u001b[0mmy_list\u001b[0m\u001b[1;33m)\u001b[0m\u001b[1;33m\u001b[0m\u001b[1;33m\u001b[0m\u001b[0m\n\u001b[1;32m----> 4\u001b[1;33m \u001b[0mlist5\u001b[0m \u001b[1;33m=\u001b[0m \u001b[0mmy_list\u001b[0m \u001b[1;33m+\u001b[0m \u001b[1;36m1\u001b[0m       \u001b[1;31m# Error, + is not work for lsit\u001b[0m\u001b[1;33m\u001b[0m\u001b[1;33m\u001b[0m\u001b[0m\n\u001b[0m",
      "\u001b[1;31mTypeError\u001b[0m: can only concatenate list (not \"int\") to list"
     ]
    }
   ],
   "source": [
    "# list vs. array\n",
    "# + , *\n",
    "print(my_list)\n",
    "list5 = my_list + 1       # Error, + is not work for list"
   ]
  },
  {
   "cell_type": "code",
   "execution_count": 45,
   "metadata": {},
   "outputs": [
    {
     "name": "stdout",
     "output_type": "stream",
     "text": [
      "[1 2 3 5]\n"
     ]
    },
    {
     "data": {
      "text/plain": [
       "array([2, 3, 4, 6])"
      ]
     },
     "execution_count": 45,
     "metadata": {},
     "output_type": "execute_result"
    }
   ],
   "source": [
    "print(my_array)\n",
    "array5 = my_array + 1       # OK\n",
    "array5"
   ]
  },
  {
   "cell_type": "code",
   "execution_count": 47,
   "metadata": {},
   "outputs": [
    {
     "name": "stdout",
     "output_type": "stream",
     "text": [
      "[1, 2, 3, 4, 5]\n",
      "[1, 2, 3, 4, 5, 1, 2, 3, 4, 5]\n",
      "\n",
      "----------------\n",
      "[1 2 3 5]\n",
      "[ 2  4  6 10]\n"
     ]
    }
   ],
   "source": [
    "# list vs. array\n",
    "print(my_list)\n",
    "list = my_list + my_list         # list, concatation\n",
    "print(list)\n",
    "print('\\n----------------')\n",
    "print(my_array)\n",
    "arr = my_array + my_array       # add value\n",
    "print(arr)"
   ]
  },
  {
   "cell_type": "code",
   "execution_count": 50,
   "metadata": {},
   "outputs": [
    {
     "name": "stdout",
     "output_type": "stream",
     "text": [
      "\n",
      "----------------\n",
      "[1 2 3 5]\n",
      "[1.         0.5        0.33333333 0.2       ]\n"
     ]
    }
   ],
   "source": [
    "print('\\n----------------')\n",
    "# list vs. array\n",
    "#res =  1/ my_list         # list, not work\n",
    "\n",
    "print(my_array)\n",
    "res = 1/ my_array       # add value\n",
    "print(res)\n"
   ]
  },
  {
   "cell_type": "code",
   "execution_count": 53,
   "metadata": {},
   "outputs": [
    {
     "data": {
      "text/plain": [
       "array([ True,  True,  True,  True])"
      ]
     },
     "execution_count": 53,
     "metadata": {},
     "output_type": "execute_result"
    }
   ],
   "source": [
    "res = my_array > 0.3\n",
    "res"
   ]
  },
  {
   "cell_type": "code",
   "execution_count": 64,
   "metadata": {},
   "outputs": [
    {
     "name": "stdout",
     "output_type": "stream",
     "text": [
      "[0 1 2 3 4 5 6 7 8 9]\n",
      "5\n",
      "[5 6 7]\n"
     ]
    }
   ],
   "source": [
    "# Page 96\n",
    "# Basic Indexing and Slicing\n",
    "\n",
    "my_array = np.arange(10)\n",
    "\n",
    "print (my_array)\n",
    "print (my_array[5])\n",
    "print (my_array[5:8])\n",
    "\n"
   ]
  },
  {
   "cell_type": "code",
   "execution_count": 65,
   "metadata": {},
   "outputs": [
    {
     "name": "stdout",
     "output_type": "stream",
     "text": [
      "[2]\n"
     ]
    }
   ],
   "source": [
    "print (my_array[2:3])"
   ]
  },
  {
   "cell_type": "code",
   "execution_count": 66,
   "metadata": {},
   "outputs": [
    {
     "data": {
      "text/plain": [
       "array([0, 1, 2, 3, 4, 5, 6, 7, 8, 9])"
      ]
     },
     "execution_count": 66,
     "metadata": {},
     "output_type": "execute_result"
    }
   ],
   "source": [
    "my_array"
   ]
  },
  {
   "cell_type": "code",
   "execution_count": 67,
   "metadata": {},
   "outputs": [
    {
     "name": "stdout",
     "output_type": "stream",
     "text": [
      "[0 1 2 3 4 0 0 0 8 9]\n",
      "----------------\n",
      "[0 0 0]\n",
      "----------------\n",
      "[99  0  0]\n",
      "[ 0  1  2  3  4 99  0  0  8  9]\n"
     ]
    }
   ],
   "source": [
    "# copy a reference\n",
    "my_array[5:8] = 0\n",
    "print (my_array)\n",
    "\n",
    "print('----------------')\n",
    "arry_slice = my_array[5:8]\n",
    "print (arry_slice)\n",
    "\n",
    "print('----------------')\n",
    "arry_slice[0] = 99\n",
    "print (arry_slice)\n",
    "print (my_array)        # notice that my_array is changed too, copy a reference"
   ]
  },
  {
   "cell_type": "code",
   "execution_count": 70,
   "metadata": {},
   "outputs": [
    {
     "name": "stdout",
     "output_type": "stream",
     "text": [
      "[ 99 -99   0]\n",
      "[ 0  1  2  3  4 99  0  0  8  9]\n",
      "[ 99 -23   0]\n",
      "[ 0  1  2  3  4 99  0  0  8  9]\n"
     ]
    }
   ],
   "source": [
    "# copy values\n",
    "print (arry_slice)\n",
    "print (my_array) \n",
    "arry_slice = my_array[5:8].copy()\n",
    "arry_slice[1] = -23\n",
    "print (arry_slice)\n",
    "print (my_array)        # notice that my_array is not changed, copy values"
   ]
  },
  {
   "cell_type": "code",
   "execution_count": 79,
   "metadata": {},
   "outputs": [
    {
     "name": "stdout",
     "output_type": "stream",
     "text": [
      "\n",
      "----------------\n",
      "[[1 2 3 4]\n",
      " [5 6 7 8]\n",
      " [6 7 8 9]]\n",
      "8\n"
     ]
    }
   ],
   "source": [
    "print('\\n----------------')\n",
    "# Page 97 -  two dimentional array\n",
    "# Page 99\n",
    "array_2d = np.array([[1,2,3,4],\n",
    "                     [5,6,7,8],\n",
    "                     [6,7,8,9]])\n",
    "print(array_2d)\n",
    "print(array_2d[1][3])"
   ]
  },
  {
   "cell_type": "code",
   "execution_count": 80,
   "metadata": {},
   "outputs": [
    {
     "name": "stdout",
     "output_type": "stream",
     "text": [
      "7\n",
      "[5 6 7 8]\n",
      "[2 6 7]\n"
     ]
    }
   ],
   "source": [
    "# same\n",
    "print(array_2d[1, 2])\n",
    "print(array_2d[1])      # The second row \n",
    "print(array_2d[:,1])    # The second col"
   ]
  },
  {
   "cell_type": "code",
   "execution_count": 82,
   "metadata": {},
   "outputs": [
    {
     "name": "stdout",
     "output_type": "stream",
     "text": [
      "['Bob' 'Joe' 'Will' 'Bob' 'Will' 'Joe' 'Joe']\n",
      "<U4\n",
      "[[ 0  0  0  0]\n",
      " [ 1 -1  1  2]\n",
      " [ 2 -2  2  2]\n",
      " [ 3 -3  3  3]\n",
      " [ 4 -4  4  4]\n",
      " [ 5 -5  5  5]]\n",
      "(6, 4)\n"
     ]
    }
   ],
   "source": [
    "# page 101\n",
    "# Boolean Indexing\n",
    "\n",
    "names = np.array(['Bob', 'Joe', 'Will', 'Bob', 'Will', 'Joe', 'Joe'])\n",
    "print(names)\n",
    "print(names.dtype)\n",
    "\n",
    "# data = np.random.randn(7,4)\n",
    "# data = np.random.randn(7,4)\n",
    "data = np.array( [ [0, 0, 0, 0],\n",
    "                 [1, -1, 1, 2],\n",
    "                 [2, -2, 2, 2],\n",
    "                 [3, -3, 3, 3],\n",
    "                 [4, -4, 4, 4],\n",
    "                 [5, -5, 5, 5] ])\n",
    "print(data)\n",
    "\n",
    "print(data.shape)\n"
   ]
  },
  {
   "cell_type": "code",
   "execution_count": 83,
   "metadata": {},
   "outputs": [
    {
     "data": {
      "text/plain": [
       "array(['Bob', 'Joe', 'Will', 'Bob', 'Will', 'Joe', 'Joe'], dtype='<U4')"
      ]
     },
     "execution_count": 83,
     "metadata": {},
     "output_type": "execute_result"
    }
   ],
   "source": [
    "names"
   ]
  },
  {
   "cell_type": "code",
   "execution_count": 84,
   "metadata": {},
   "outputs": [
    {
     "data": {
      "text/plain": [
       "array([[ 0,  0,  0,  0],\n",
       "       [ 1, -1,  1,  2],\n",
       "       [ 2, -2,  2,  2],\n",
       "       [ 3, -3,  3,  3],\n",
       "       [ 4, -4,  4,  4],\n",
       "       [ 5, -5,  5,  5]])"
      ]
     },
     "execution_count": 84,
     "metadata": {},
     "output_type": "execute_result"
    }
   ],
   "source": [
    "data"
   ]
  },
  {
   "cell_type": "code",
   "execution_count": 85,
   "metadata": {},
   "outputs": [
    {
     "data": {
      "text/plain": [
       "array([ True, False, False,  True, False, False, False])"
      ]
     },
     "execution_count": 85,
     "metadata": {},
     "output_type": "execute_result"
    }
   ],
   "source": [
    "names == 'Bob'"
   ]
  },
  {
   "cell_type": "code",
   "execution_count": 88,
   "metadata": {},
   "outputs": [
    {
     "name": "stdout",
     "output_type": "stream",
     "text": [
      "[ True False False  True False False False]\n"
     ]
    }
   ],
   "source": [
    "# The boolean array must be of the same length the data array\n",
    "res = (names =='Bob')     \n",
    "print(res)"
   ]
  },
  {
   "cell_type": "code",
   "execution_count": null,
   "metadata": {},
   "outputs": [],
   "source": [
    "print('\\n----------------')\n",
    "print(data[names =='Bob', 2:] )"
   ]
  },
  {
   "cell_type": "code",
   "execution_count": null,
   "metadata": {},
   "outputs": [],
   "source": [
    "print('\\n----------------')\n",
    "print(data[names =='Bob', 3] )"
   ]
  },
  {
   "cell_type": "code",
   "execution_count": null,
   "metadata": {},
   "outputs": [],
   "source": [
    "print('\\n----------------')\n",
    "print( data[names !='Bob'] )\n",
    "\n",
    "\n",
    "print('\\n----------------')\n",
    "mask = (names == 'Bob') | (names == 'Will')     # Or: |, and : &\n",
    "print(mask)\n",
    "\n",
    "print(data)\n",
    "print('\\n----------------')\n",
    "print(data[mask])\n",
    "\n",
    "\n",
    "print('\\n----------------')\n",
    "data[ data<0 ] = 0\n",
    "print(data)\n",
    "\n",
    "print('\\n----------------')\n",
    "data[ names =='Joe'] = 7\n",
    "print(data)"
   ]
  },
  {
   "cell_type": "code",
   "execution_count": null,
   "metadata": {},
   "outputs": [],
   "source": []
  },
  {
   "cell_type": "code",
   "execution_count": null,
   "metadata": {},
   "outputs": [],
   "source": [
    "# Page 104\n",
    "# Fancy Indexing\n",
    "\n",
    "arr = np.empty((8,4))\n",
    "\n",
    "for i in range(8):\n",
    "    for j in range (4):\n",
    "        arr[i][j] = i                     #arr[i,j] is same as arr[i][j]\n",
    "print( arr)\n",
    "\n",
    "print('\\n----------------')\n",
    "# Same\n",
    "for i in range(8):\n",
    "    arr[i]=i\n",
    "print(arr)"
   ]
  },
  {
   "cell_type": "code",
   "execution_count": null,
   "metadata": {},
   "outputs": [],
   "source": [
    "# Page 105\n",
    "# Transposing Array and Swapping Axes\n",
    "\n",
    "arr = np.arange(15)\n",
    "print(arr)\n",
    "\n",
    "print('\\n----------------')\n",
    "arr = arr.reshape([3,5])\n",
    "print(arr)\n",
    "\n",
    "print('\\n----------------')\n",
    "# Transposing Array: used quiet often: subtotal by product vs. subtotal by Quartly\n",
    "new_arr = arr.T\n",
    "print(new_arr)\n",
    "\n",
    "print('\\n----------------')\n",
    "print(arr)   # origianl arry doesn't change\n",
    "\n",
    "new_arr = np.dot(arr.T, arr)\n",
    "print(new_arr)\n",
    "\n",
    "#\n",
    "arr = np.arange(16).reshape([2,2,4])\n",
    "print(arr)\n",
    "# data = np.random.randn(7,4)\n",
    "data = np.array( [ [0, 0, 0, 0],\n",
    "                 [1, -1, 1, 2],\n",
    "                 [2, -2, 2, 2],\n",
    "                 [3, -3, 3, 3],\n",
    "                 [4, -4, 4, 4],\n",
    "                 [5, -5, 5, 5] ])\n",
    "print(data.T)"
   ]
  },
  {
   "cell_type": "code",
   "execution_count": null,
   "metadata": {},
   "outputs": [],
   "source": [
    "# page 107\n",
    "# Universal Functions\n",
    "# Page 109 Table 4-3 Unary ufuncs: \n",
    "# abs, fabs, sqrt,square, exp, log,log10, sign, ceil, floor, rint, modf, isnun,\n",
    "\n",
    "arr = np.arange(5)\n",
    "print(arr)\n",
    "\n",
    "print( np.sqrt(arr))\n",
    "\n",
    "print( np.exp(arr))\n",
    "\n",
    "x = np.random.randn(8)\n",
    "print(x)\n",
    "\n",
    "y = np.rint(x)\n",
    "print(y)\n",
    "\n",
    "z = np.floor (x *10)\n",
    "print(z)\n",
    "\n",
    "# Page 109 Binary universal functions\n",
    "# add, subtract, multiply, divide\n",
    "\n",
    "print('\\n----------------')\n",
    "w = y + z\n",
    "print(w)\n",
    "\n",
    "# use : add\n",
    "w = np.add(y,z)\n",
    "print(w)\n",
    "\n",
    "print('\\n----------------')\n",
    "w = y / z\n",
    "print(w)\n",
    "\n",
    "# use : divide\n",
    "w = np.divide(y,z)\n",
    "print(w)"
   ]
  },
  {
   "cell_type": "code",
   "execution_count": null,
   "metadata": {},
   "outputs": [],
   "source": [
    "# page 110\n",
    "# 4.3 Array-Oriented Programming with Arrays : replace to use loop\n",
    "\n",
    "x = np.arange(-5,5, 0.01)  # 1000 \n",
    "y = np.arange(-5,5, 0.01)  # 1000 \n",
    "\n",
    "xs, ys = np.meshgrid(x, y)\n",
    "\n",
    "z = np.sin(xs**2 + ys**2) / (xs**2 + ys**2)\n",
    "\n",
    "#print(help(np.meshgrid))     # <- Use help\n",
    "\n",
    "import matplotlib.pyplot as plt\n",
    "plt.imshow(z)\n",
    "#plt.imshow(z, cmap=plt.cm.gray); plt.colorbar()\n",
    "#h = plt.contourf(x,y,z)\n",
    "#plt.show()"
   ]
  },
  {
   "cell_type": "code",
   "execution_count": null,
   "metadata": {},
   "outputs": [],
   "source": [
    "# page 111\n",
    "# Expressing ConditionalLogic as Array Operations\n",
    "\n",
    "x_arry = np.array([1.1, 1.2, 1.3, 1.4, 1.5])\n",
    "y_arry = np.array([2.1, 2.2, 2.3, 2.4, 2.5])\n",
    "\n",
    "print( x_arry > y_arry)\n",
    "cond_array = np.array([True, False, True, False, True])\n",
    "\n",
    "result = np.where(cond_array, x_arry, y_arry)\n",
    "print(result)\n",
    "\n",
    "print('\\n----------------')\n",
    "a = np.random.randn(4,4)\n",
    "print(a)\n",
    "\n",
    "b = np.where(a>0,2,-2)\n",
    "print(b)\n",
    "\n",
    "c = np.where(a>0,2,a)\n",
    "print(c)\n",
    "\n",
    "print('\\n----------------')\n",
    "# more example (from numpy doc)\n",
    "a = np.arange(10)\n",
    "print(a)\n",
    "\n",
    "b = np.where(a < 5, a, 10*a)\n",
    "print(b)\n"
   ]
  },
  {
   "cell_type": "code",
   "execution_count": null,
   "metadata": {},
   "outputs": [],
   "source": [
    "# page 113 Methematical and Statistical Method\n",
    "# Basic array staticstical method: sum, mean, std, var, min, max, argmin, argmax,cumsum,cumprod\n",
    "\n",
    "a = np.arange(1,10)\n",
    "print(a)\n",
    "\n",
    "print(np.sum(a))\n",
    "print(np.mean(a))\n",
    "print(np.std(a))\n",
    "print(np.var(a))\n",
    "print(np.min(a))\n",
    "print(np.max(a))\n",
    "print(np.argmin(a))\n",
    "print(np.argmax(a))\n",
    "\n",
    "b = np.cumsum(a)\n",
    "print(b)\n",
    "\n",
    "b = np.cumprod(a)\n",
    "print(b)\n",
    "\n",
    "\n",
    "print('\\n----------------')\n",
    "a = np.arange(10).reshape(2,5)\n",
    "print(a)\n",
    "\n",
    "\n",
    "b = np.cumsum(a)\n",
    "print(b)\n",
    "\n",
    "c = a.cumsum(axis=0)\n",
    "print(c)\n",
    "\n",
    "d = a.cumsum(axis=1)\n",
    "print(d)"
   ]
  },
  {
   "cell_type": "code",
   "execution_count": null,
   "metadata": {},
   "outputs": [],
   "source": [
    "# page 115 Methods for Boolean Arrays\n",
    "\n",
    "a = np.random.randn(10)\n",
    "print(a)\n",
    "\n",
    "b = np.rint(a)\n",
    "print(b)\n",
    "\n",
    "print(b>0.5)\n",
    "c = (a>=0).sum()   # count number of positive value\n",
    "print(c)\n",
    "\n",
    "d = np.array([False, False,  True, False,  True])\n",
    "print(d.any())\n",
    "print(d.all())\n"
   ]
  },
  {
   "cell_type": "code",
   "execution_count": null,
   "metadata": {},
   "outputs": [],
   "source": []
  },
  {
   "cell_type": "code",
   "execution_count": null,
   "metadata": {},
   "outputs": [],
   "source": [
    "# page 115 Methods for sort\n",
    "\n",
    "a = np.random.randn(5)\n",
    "print(a)\n",
    "\n",
    "b = a.sort()\n",
    "print(b)    # nothing\n",
    "print(a)\n",
    "\n",
    "print('\\n----------------')\n",
    "\n",
    "a = np.random.randn(6).reshape(2,3)\n",
    "a = np.floor( a*10)\n",
    "print(a)\n",
    "\n",
    "a.sort(0)    # for col\n",
    "print(a)\n",
    "\n",
    "a.sort(1)    # for col\n",
    "print(a)"
   ]
  },
  {
   "cell_type": "code",
   "execution_count": null,
   "metadata": {},
   "outputs": [],
   "source": [
    "# Page 116 Unique and set logic\n",
    "\n",
    "names = np.array(['Joe', 'Bill', 'Bob','Joe', 'Will','Bob'])\n",
    "print(names)\n",
    "\n",
    "print('\\n----------------')\n",
    "some_names= np.unique(names)   # Compute the sorted, unique element\n",
    "print(some_names)              # already sorted\n",
    "\n",
    "\n",
    "print('\\n----------------')\n",
    "# vs. pure Python\n",
    "print(set(names))\n",
    "print(names)    # notice names no change\n",
    "\n",
    "name_list = sorted (set(names))   # numpy    name_list.sort()\n",
    "print(name_list)\n",
    "\n",
    "# Page 117: Array set operations: unique(x), intersect1d(x,y), union1d(x, y), in1d(x,y)\n",
    "# vs.\n",
    "# page 66 Paython set operations a.add(x), a.union(b), a.intersection(b), a.difference(b)"
   ]
  },
  {
   "cell_type": "code",
   "execution_count": null,
   "metadata": {},
   "outputs": [],
   "source": [
    "# Page 117\n",
    "# 4.4 File Input and Output with Arrays\n",
    "# np.save, np.load\n",
    "\n",
    "arry = np.arange(10)\n",
    "print(arry)\n",
    "\n",
    "np.save('array_file', arry)\n",
    "\n",
    "b_array = np.load('array_file.npy')\n",
    "print(b_array)"
   ]
  },
  {
   "cell_type": "code",
   "execution_count": null,
   "metadata": {},
   "outputs": [],
   "source": [
    "x = np.array([1, 2,3])\n",
    "y = np.array([4, 5,6])\n",
    "\n",
    "\n",
    "z1 = x *y\n",
    "print(z1)\n",
    "\n",
    "z2 = x.dot(y)\n",
    "print(z2)\n",
    "\n",
    "z3 = np.dot(x,y)\n",
    "print(z3)"
   ]
  },
  {
   "cell_type": "code",
   "execution_count": null,
   "metadata": {},
   "outputs": [],
   "source": [
    "# page 118\n",
    "# 4.5 Linear Algebra\n",
    "\n",
    "x = np.array([[1, 2,3],[4,5,6]])\n",
    "y = np.array([[1,2],[3,4],[5,6]])\n",
    "print(x)\n",
    "print(y)\n",
    "\n",
    "# dot operation\n",
    "z = x.dot(y)\n",
    "print(z)\n",
    "# vs.\n",
    "z = np.dot(x, y)\n",
    "print(z)"
   ]
  },
  {
   "cell_type": "code",
   "execution_count": null,
   "metadata": {},
   "outputs": [],
   "source": [
    "# Page 120\n",
    "# 4.6 numpy.random vs. Paython random, more efficient\n",
    "# Table 4-8 : seed, permutation, shuffle, rand, randint, randn, binomial, normal\n",
    "\n",
    "sample = np.random.normal(size=(4,4))\n",
    "print(sample)"
   ]
  },
  {
   "cell_type": "code",
   "execution_count": 1,
   "metadata": {},
   "outputs": [
    {
     "ename": "NameError",
     "evalue": "name 'plt' is not defined",
     "output_type": "error",
     "traceback": [
      "\u001b[1;31m---------------------------------------------------------------------------\u001b[0m",
      "\u001b[1;31mNameError\u001b[0m                                 Traceback (most recent call last)",
      "\u001b[1;32m<ipython-input-1-6b9771b5be4a>\u001b[0m in \u001b[0;36m<module>\u001b[1;34m\u001b[0m\n\u001b[0;32m     12\u001b[0m     \u001b[0mwalk\u001b[0m\u001b[1;33m.\u001b[0m\u001b[0mappend\u001b[0m\u001b[1;33m(\u001b[0m\u001b[0mposition\u001b[0m\u001b[1;33m)\u001b[0m\u001b[1;33m\u001b[0m\u001b[1;33m\u001b[0m\u001b[0m\n\u001b[0;32m     13\u001b[0m \u001b[1;33m\u001b[0m\u001b[0m\n\u001b[1;32m---> 14\u001b[1;33m \u001b[0mplt\u001b[0m\u001b[1;33m.\u001b[0m\u001b[0mplot\u001b[0m\u001b[1;33m(\u001b[0m\u001b[0mwalk\u001b[0m\u001b[1;33m[\u001b[0m\u001b[1;33m:\u001b[0m\u001b[1;36m200\u001b[0m\u001b[1;33m]\u001b[0m\u001b[1;33m)\u001b[0m\u001b[1;33m\u001b[0m\u001b[1;33m\u001b[0m\u001b[0m\n\u001b[0m\u001b[0;32m     15\u001b[0m \u001b[1;33m\u001b[0m\u001b[0m\n\u001b[0;32m     16\u001b[0m \u001b[1;31m# vs. np.rand\u001b[0m\u001b[1;33m\u001b[0m\u001b[1;33m\u001b[0m\u001b[1;33m\u001b[0m\u001b[0m\n",
      "\u001b[1;31mNameError\u001b[0m: name 'plt' is not defined"
     ]
    }
   ],
   "source": [
    "# Page 121\n",
    "# 4.7 Example: Random walks\n",
    "# Use pure Python\n",
    "\n",
    "import random\n",
    "position = 0\n",
    "walk = [position]\n",
    "steps =1000\n",
    "for i in range(steps):\n",
    "    step = 1 if random.randint(0,1) else -1\n",
    "    position +=step\n",
    "    walk.append(position)\n",
    "\n",
    "plt.plot(walk[:200])\n",
    "\n",
    "# vs. np.rand\n",
    "nsteps = 100\n",
    "draws = np.random.randint(0, 2, size = nsteps)\n",
    "print(draws)\n",
    "\n",
    "steps = np.where(draws>0, 1, -1)\n",
    "print(steps)"
   ]
  }
 ],
 "metadata": {
  "kernelspec": {
   "display_name": "Python 3",
   "language": "python",
   "name": "python3"
  },
  "language_info": {
   "codemirror_mode": {
    "name": "ipython",
    "version": 3
   },
   "file_extension": ".py",
   "mimetype": "text/x-python",
   "name": "python",
   "nbconvert_exporter": "python",
   "pygments_lexer": "ipython3",
   "version": "3.7.3"
  }
 },
 "nbformat": 4,
 "nbformat_minor": 2
}
