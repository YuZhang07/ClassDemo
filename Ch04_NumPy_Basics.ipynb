{
 "cells": [
  {
   "cell_type": "code",
   "execution_count": 2,
   "metadata": {},
   "outputs": [
    {
     "name": "stdout",
     "output_type": "stream",
     "text": [
      "Wall time: 20.9 ms\n",
      "Wall time: 277 ms\n"
     ]
    }
   ],
   "source": [
    "# Ch04 NumPy Basics: Array and Vectorized Computation\n",
    "\n",
    "# Numpy is more efficiency on large arrays of data, generally 10 to 100 times fast\n",
    "\n",
    "import numpy as np\n",
    "\n",
    "my_array = np.arange(1000000)\n",
    "\n",
    "my_list = list(range(1000000))\n",
    "\n",
    "%time for _ in range(10): my_array2 = my_array*2\n",
    "\n",
    "%time for _ in range(10): my_list2 = my_list*2"
   ]
  },
  {
   "cell_type": "code",
   "execution_count": 12,
   "metadata": {},
   "outputs": [
    {
     "name": "stdout",
     "output_type": "stream",
     "text": [
      "[[  7.10860901 -10.17641867  -0.02821348]\n",
      " [ -5.16663062  -6.85684097  -6.73176927]]\n",
      "[[ 1.4217218  -2.03528373 -0.0056427 ]\n",
      " [-1.03332612 -1.37136819 -1.34635385]]\n",
      "(2, 3)\n",
      "float64\n"
     ]
    }
   ],
   "source": [
    "# 4.1 The NumPy ndarry: A Multidimensional Array Object\n",
    "\n",
    "import numpy as np\n",
    "\n",
    "data = np.random.randn(2,3)\n",
    "print(data*10)\n",
    "print(data + data)\n",
    "print(data.shape)\n",
    "print(data.dtype)"
   ]
  },
  {
   "cell_type": "code",
   "execution_count": 2,
   "metadata": {},
   "outputs": [
    {
     "name": "stdout",
     "output_type": "stream",
     "text": [
      "[6, 7.5, 8, 0, 1]\n",
      "[6.  7.5 8.  0.  1. ]\n",
      "(5,)\n",
      "\n",
      "----------------\n",
      "[[1, 2, 3], [4, 5, 6]]\n",
      "(2, 3)\n"
     ]
    }
   ],
   "source": [
    "import numpy as np\n",
    "\n",
    "# Create ndarrays\n",
    "data = [6, 7.5, 8, 0, 1]    # <- data type is list\n",
    "print(data) \n",
    "\n",
    "# convert list to array\n",
    "my_array = np.array(data)\n",
    "print(my_array)\n",
    "print(my_array.shape)\n",
    "\n",
    "print('\\n----------------')\n",
    "\n",
    "data = [[1,2,3],\n",
    "        [4,5,6]]\n",
    "print(data)\n",
    "#print(data.shape)          # Error, only np array has shape function\n",
    "\n",
    "# convert list to array\n",
    "my_array = np.array(data)\n",
    "print(my_array.shape)  "
   ]
  },
  {
   "cell_type": "code",
   "execution_count": 3,
   "metadata": {},
   "outputs": [
    {
     "name": "stdout",
     "output_type": "stream",
     "text": [
      "[0. 0. 0. 0. 0. 0. 0. 0. 0. 0.]\n",
      "(10,)\n",
      "[[0. 0. 0. 0. 0.]\n",
      " [0. 0. 0. 0. 0.]]\n",
      "(2, 5)\n",
      "\n",
      "----------------\n",
      "[1. 1. 1. 1. 1. 1. 1. 1. 1. 1.]\n",
      "(10,)\n",
      "[[1. 1. 1. 1. 1.]\n",
      " [1. 1. 1. 1. 1.]]\n",
      "(2, 5)\n",
      "\n",
      "----------------\n",
      "[1. 1. 1. 1. 1. 1. 1. 1. 1. 1.]\n",
      "(10,)\n",
      "[[1. 1. 1. 1. 1.]\n",
      " [1. 1. 1. 1. 1.]]\n",
      "(2, 5)\n"
     ]
    }
   ],
   "source": [
    "# Use zeros, ones , empty to creates arrays\n",
    "my_array = np.zeros(10)\n",
    "print(my_array)\n",
    "print(my_array.shape)\n",
    "\n",
    "my_array = np.zeros((2,5))\n",
    "print(my_array)\n",
    "print(my_array.shape)\n",
    "\n",
    "print('\\n----------------')\n",
    "my_array = np.ones(10)\n",
    "print(my_array)\n",
    "print(my_array.shape)\n",
    "\n",
    "my_array = np.ones((2,5))\n",
    "print(my_array)\n",
    "print(my_array.shape)\n",
    "\n",
    "print('\\n----------------')\n",
    "my_array = np.empty(10)\n",
    "print(my_array)\n",
    "print(my_array.shape)\n",
    "\n",
    "my_array = np.empty((2,5))\n",
    "print(my_array)\n",
    "print(my_array.shape)"
   ]
  },
  {
   "cell_type": "code",
   "execution_count": 35,
   "metadata": {},
   "outputs": [
    {
     "name": "stdout",
     "output_type": "stream",
     "text": [
      "[0, 1, 2, 3, 4, 5, 6, 7, 8, 9]\n",
      "[0 1 2 3 4 5 6 7 8 9]\n",
      "\n",
      "----------------\n",
      "[1, 2, 3, 4, 5]\n",
      "[1 2 3 5]\n",
      "[2 3 4 6]\n",
      "\n",
      "----------------\n",
      "[1, 2, 3, 4, 5, 1, 2, 3, 4, 5]\n",
      "[ 2  4  6 10]\n",
      "\n",
      "----------------\n",
      "[ 2  4  6 10]\n",
      "[1.         0.5        0.33333333 0.2       ]\n"
     ]
    },
    {
     "data": {
      "text/plain": [
       "array([False, False, False, False])"
      ]
     },
     "execution_count": 35,
     "metadata": {},
     "output_type": "execute_result"
    }
   ],
   "source": [
    "# arange is an array- value\n",
    "\n",
    "my_list = list(range(10))     # < - this is list\n",
    "print(my_list)\n",
    "\n",
    "#vs.\n",
    "my_array = np.arange(10)      # < - this is array\n",
    "print(my_array)\n",
    "\n",
    "# Page 52 Table 4-1 Array creation functions\n",
    "# array, arange, ones, ones_like, zeros\n",
    "\n",
    "print('\\n----------------')\n",
    "# Page 95 Arithmetic with NumPy Array\n",
    "# list\n",
    "my_list = list([1, 2, 3, 4, 5])\n",
    "print(my_list)\n",
    "# np array\n",
    "my_array = np.array([1,2,3,5])\n",
    "print(my_array)\n",
    "\n",
    "# + , *\n",
    "#c = my_list + 1       # Error, + is not work for lsit\n",
    "c = my_array + 1       # OK\n",
    "print(c)\n",
    "\n",
    "print('\\n----------------')\n",
    "c = my_list + my_list         # list, concatation\n",
    "print(c)\n",
    "c = my_array + my_array       # add value\n",
    "print(c)\n",
    "\n",
    "print('\\n----------------')\n",
    "#c =  1/ my_list         # list, not work\n",
    "print(c)\n",
    "c = 1/ my_array       # add value\n",
    "print(c)\n",
    "\n",
    "c>my_array\n"
   ]
  },
  {
   "cell_type": "code",
   "execution_count": 49,
   "metadata": {},
   "outputs": [
    {
     "name": "stdout",
     "output_type": "stream",
     "text": [
      "[0 1 2 3 4 5 6 7 8 9]\n",
      "5\n",
      "[5 6 7]\n",
      "[0 1 2 3 4 0 0 0 8 9]\n",
      "[99  0  0]\n",
      "[ 0  1  2  3  4 99  0  0  8  9]\n",
      "[ 99 -99   0]\n",
      "[ 0  1  2  3  4 99  0  0  8  9]\n",
      "\n",
      "----------------\n",
      "[[1 2 3 4]\n",
      " [5 6 7 8]]\n",
      "7\n",
      "7\n",
      "[5 6 7 8]\n",
      "[2 6]\n"
     ]
    }
   ],
   "source": [
    "# Page 96\n",
    "# Basic Indexing and Slicing\n",
    "\n",
    "my_array = np.arange(10)\n",
    "\n",
    "print (my_array)\n",
    "print (my_array[5])\n",
    "print (my_array[5:8])\n",
    "\n",
    "my_array[5:8] = 0\n",
    "print (my_array)\n",
    "\n",
    "arry_slice = my_array[5:8]\n",
    "arry_slice[0] = 99\n",
    "print (arry_slice)\n",
    "print (my_array)        # notice that my_array is changed too, copy a reference\n",
    "\n",
    "# copy value\n",
    "arry_slice = my_array[5:8].copy()\n",
    "arry_slice[1] = -99\n",
    "print (arry_slice)\n",
    "print (my_array)        # notice that my_array is changed too, copy a reference\n",
    "\n",
    "print('\\n----------------')\n",
    "# Page 97 -  two dimentional array\n",
    "array_2d = np.array([[1,2,3,4],[5,6,7,8]])\n",
    "print(array_2d)\n",
    "print(array_2d[1][2])\n",
    "# same\n",
    "print(array_2d[1, 2])\n",
    "print(array_2d[1])      # The second row \n",
    "print(array_2d[:,1])    # The second col"
   ]
  },
  {
   "cell_type": "code",
   "execution_count": 24,
   "metadata": {},
   "outputs": [
    {
     "name": "stdout",
     "output_type": "stream",
     "text": [
      "['Bob' 'Joe' 'Will' 'Bob' 'Will' 'Joe']\n",
      "[[ 0  0  0  0]\n",
      " [ 1 -1  1  2]\n",
      " [ 2 -2  2  2]\n",
      " [ 3 -3  3  3]\n",
      " [ 4 -4  4  4]\n",
      " [ 5 -5  5  5]]\n",
      "\n",
      "----------------\n",
      "[ True False False  True False False]\n",
      "[[ 0  0  0  0]\n",
      " [ 3 -3  3  3]]\n",
      "\n",
      "----------------\n",
      "[[0 0]\n",
      " [3 3]]\n",
      "\n",
      "----------------\n",
      "[0 3]\n",
      "\n",
      "----------------\n",
      "[[ 1 -1  1  2]\n",
      " [ 2 -2  2  2]\n",
      " [ 4 -4  4  4]\n",
      " [ 5 -5  5  5]]\n",
      "\n",
      "----------------\n",
      "[ True False  True  True  True False]\n",
      "[[ 0  0  0  0]\n",
      " [ 1 -1  1  2]\n",
      " [ 2 -2  2  2]\n",
      " [ 3 -3  3  3]\n",
      " [ 4 -4  4  4]\n",
      " [ 5 -5  5  5]]\n",
      "\n",
      "----------------\n",
      "[[ 0  0  0  0]\n",
      " [ 2 -2  2  2]\n",
      " [ 3 -3  3  3]\n",
      " [ 4 -4  4  4]]\n",
      "\n",
      "----------------\n",
      "[[0 0 0 0]\n",
      " [1 0 1 2]\n",
      " [2 0 2 2]\n",
      " [3 0 3 3]\n",
      " [4 0 4 4]\n",
      " [5 0 5 5]]\n",
      "\n",
      "----------------\n",
      "[[0 0 0 0]\n",
      " [7 7 7 7]\n",
      " [2 0 2 2]\n",
      " [3 0 3 3]\n",
      " [4 0 4 4]\n",
      " [7 7 7 7]]\n"
     ]
    }
   ],
   "source": [
    "# page 101\n",
    "# Boolean Indexing\n",
    "\n",
    "names = np.array(['Bob', 'Joe', 'Will', 'Bob', 'Will', 'Joe'])\n",
    "print(names)\n",
    "\n",
    "# data = np.random.randn(7,4)\n",
    "data = np.array( [ [0, 0, 0, 0],\n",
    "                 [1, -1, 1, 2],\n",
    "                 [2, -2, 2, 2],\n",
    "                 [3, -3, 3, 3],\n",
    "                 [4, -4, 4, 4],\n",
    "                 [5, -5, 5, 5] ])\n",
    "print(data)\n",
    "\n",
    "print('\\n----------------')\n",
    "print(names == 'Bob')\n",
    "\n",
    "# The boolean array must be of the same length the data array\n",
    "bob_data = data[names =='Bob']     \n",
    "print(bob_data)\n",
    "\n",
    "print('\\n----------------')\n",
    "print(data[names =='Bob', 2:] )\n",
    "\n",
    "print('\\n----------------')\n",
    "print(data[names =='Bob', 3] )\n",
    "\n",
    "print('\\n----------------')\n",
    "print( data[names !='Bob'] )\n",
    "\n",
    "\n",
    "print('\\n----------------')\n",
    "mask = (names == 'Bob') | (names == 'Will')     # Or: |, and : &\n",
    "print(mask)\n",
    "\n",
    "print(data)\n",
    "print('\\n----------------')\n",
    "print(data[mask])\n",
    "\n",
    "\n",
    "print('\\n----------------')\n",
    "data[ data<0 ] = 0\n",
    "print(data)\n",
    "\n",
    "print('\\n----------------')\n",
    "data[ names =='Joe'] = 7\n",
    "print(data)"
   ]
  },
  {
   "cell_type": "code",
   "execution_count": 31,
   "metadata": {},
   "outputs": [
    {
     "name": "stdout",
     "output_type": "stream",
     "text": [
      "[[0. 0. 0. 0.]\n",
      " [1. 1. 1. 1.]\n",
      " [2. 2. 2. 2.]\n",
      " [3. 3. 3. 3.]\n",
      " [4. 4. 4. 4.]\n",
      " [5. 5. 5. 5.]\n",
      " [6. 6. 6. 6.]\n",
      " [7. 7. 7. 7.]]\n",
      "[[0. 0. 0. 0.]\n",
      " [1. 1. 1. 1.]\n",
      " [2. 2. 2. 2.]\n",
      " [3. 3. 3. 3.]\n",
      " [4. 4. 4. 4.]\n",
      " [5. 5. 5. 5.]\n",
      " [6. 6. 6. 6.]\n",
      " [7. 7. 7. 7.]]\n"
     ]
    }
   ],
   "source": [
    "# Page 104\n",
    "# Fancy Indexing\n",
    "\n",
    "arr = np.empty((8,4))\n",
    "\n",
    "for i in range(8):\n",
    "    for j in range (4):\n",
    "        arr[i][j] = i                     #arr[i,j] is same as arr[i][j]\n",
    "print( arr)\n",
    "\n",
    "print('\\n----------------')\n",
    "# Same\n",
    "for i in range(8):\n",
    "    arr[i]=i\n",
    "print(arr)"
   ]
  },
  {
   "cell_type": "code",
   "execution_count": 40,
   "metadata": {},
   "outputs": [
    {
     "name": "stdout",
     "output_type": "stream",
     "text": [
      "[ 0  1  2  3  4  5  6  7  8  9 10 11 12 13 14]\n",
      "\n",
      "----------------\n",
      "[[ 0  1  2  3  4]\n",
      " [ 5  6  7  8  9]\n",
      " [10 11 12 13 14]]\n",
      "\n",
      "----------------\n",
      "[[ 0  5 10]\n",
      " [ 1  6 11]\n",
      " [ 2  7 12]\n",
      " [ 3  8 13]\n",
      " [ 4  9 14]]\n",
      "\n",
      "----------------\n",
      "[[ 0  1  2  3  4]\n",
      " [ 5  6  7  8  9]\n",
      " [10 11 12 13 14]]\n",
      "[[125 140 155 170 185]\n",
      " [140 158 176 194 212]\n",
      " [155 176 197 218 239]\n",
      " [170 194 218 242 266]\n",
      " [185 212 239 266 293]]\n",
      "[[[ 0  1  2  3]\n",
      "  [ 4  5  6  7]]\n",
      "\n",
      " [[ 8  9 10 11]\n",
      "  [12 13 14 15]]]\n",
      "[[ 0  1  2  3  4  5]\n",
      " [ 0 -1 -2 -3 -4 -5]\n",
      " [ 0  1  2  3  4  5]\n",
      " [ 0  2  2  3  4  5]]\n"
     ]
    }
   ],
   "source": [
    "# Page 105\n",
    "# Transposing Array and Swapping Axes\n",
    "\n",
    "arr = np.arange(15)\n",
    "print(arr)\n",
    "\n",
    "print('\\n----------------')\n",
    "arr = arr.reshape([3,5])\n",
    "print(arr)\n",
    "\n",
    "print('\\n----------------')\n",
    "# Transposing Array: used quiet often: subtotal by product vs. subtotal by Quartly\n",
    "new_arr = arr.T\n",
    "print(new_arr)\n",
    "\n",
    "print('\\n----------------')\n",
    "print(arr)   # origianl arry doesn't change\n",
    "\n",
    "new_arr = np.dot(arr.T, arr)\n",
    "print(new_arr)\n",
    "\n",
    "#\n",
    "arr = np.arange(16).reshape([2,2,4])\n",
    "print(arr)\n",
    "# data = np.random.randn(7,4)\n",
    "data = np.array( [ [0, 0, 0, 0],\n",
    "                 [1, -1, 1, 2],\n",
    "                 [2, -2, 2, 2],\n",
    "                 [3, -3, 3, 3],\n",
    "                 [4, -4, 4, 4],\n",
    "                 [5, -5, 5, 5] ])\n",
    "print(data.T)"
   ]
  },
  {
   "cell_type": "code",
   "execution_count": 60,
   "metadata": {},
   "outputs": [
    {
     "name": "stdout",
     "output_type": "stream",
     "text": [
      "[0 1 2 3 4]\n",
      "[0.         1.         1.41421356 1.73205081 2.        ]\n",
      "[ 1.          2.71828183  7.3890561  20.08553692 54.59815003]\n",
      "[-0.20694237  0.48717845  0.91582022 -1.00467091  0.77294326  0.36806749\n",
      " -0.31671945 -0.31715101]\n",
      "[-0.  0.  1. -1.  1.  0. -0. -0.]\n",
      "[ -3.   4.   9. -11.   7.   3.  -4.  -4.]\n",
      "\n",
      "----------------\n",
      "[ -3.   4.  10. -12.   8.   3.  -4.  -4.]\n",
      "[ -3.   4.  10. -12.   8.   3.  -4.  -4.]\n",
      "\n",
      "----------------\n",
      "[0.         0.         0.11111111 0.09090909 0.14285714 0.\n",
      " 0.         0.        ]\n",
      "[0.         0.         0.11111111 0.09090909 0.14285714 0.\n",
      " 0.         0.        ]\n"
     ]
    }
   ],
   "source": [
    "# page 107\n",
    "# Universal Functions\n",
    "# Page 109 Table 4-3 Unary ufuncs: \n",
    "# abs, fabs, sqrt,square, exp, log,log10, sign, ceil, floor, rint, modf, isnun,\n",
    "\n",
    "arr = np.arange(5)\n",
    "print(arr)\n",
    "\n",
    "print( np.sqrt(arr))\n",
    "\n",
    "print( np.exp(arr))\n",
    "\n",
    "x = np.random.randn(8)\n",
    "print(x)\n",
    "\n",
    "y = np.rint(x)\n",
    "print(y)\n",
    "\n",
    "z = np.floor (x *10)\n",
    "print(z)\n",
    "\n",
    "# Page 109 Binary universal functions\n",
    "# add, subtract, multiply, divide\n",
    "\n",
    "print('\\n----------------')\n",
    "w = y + z\n",
    "print(w)\n",
    "\n",
    "# use : add\n",
    "w = np.add(y,z)\n",
    "print(w)\n",
    "\n",
    "print('\\n----------------')\n",
    "w = y / z\n",
    "print(w)\n",
    "\n",
    "# use : divide\n",
    "w = np.divide(y,z)\n",
    "print(w)"
   ]
  },
  {
   "cell_type": "code",
   "execution_count": 66,
   "metadata": {},
   "outputs": [
    {
     "data": {
      "text/plain": [
       "<matplotlib.image.AxesImage at 0x19633f865f8>"
      ]
     },
     "execution_count": 66,
     "metadata": {},
     "output_type": "execute_result"
    },
    {
     "data": {
      "image/png": "[encoded data removed]",
      "text/plain": [
       "<Figure size 432x288 with 1 Axes>"
      ]
     },
     "metadata": {
      "needs_background": "light"
     },
     "output_type": "display_data"
    }
   ],
   "source": [
    "# page 110\n",
    "# 4.3 Array-Oriented Programming with Arrays : replace to use loop\n",
    "\n",
    "x = np.arange(-5,5, 0.01)  # 1000 \n",
    "y = np.arange(-5,5, 0.01)  # 1000 \n",
    "\n",
    "xs, ys = np.meshgrid(x, y)\n",
    "\n",
    "z = np.sin(xs**2 + ys**2) / (xs**2 + ys**2)\n",
    "\n",
    "#print(help(np.meshgrid))     # <- Use help\n",
    "\n",
    "import matplotlib.pyplot as plt\n",
    "plt.imshow(z)\n",
    "#plt.imshow(z, cmap=plt.cm.gray); plt.colorbar()\n",
    "#h = plt.contourf(x,y,z)\n",
    "#plt.show()"
   ]
  },
  {
   "cell_type": "code",
   "execution_count": 72,
   "metadata": {},
   "outputs": [
    {
     "name": "stdout",
     "output_type": "stream",
     "text": [
      "[False False False False False]\n",
      "[1.1 2.2 1.3 2.4 1.5]\n",
      "\n",
      "----------------\n",
      "[[ 0.26840554  0.10508368 -0.7923747  -0.11191865]\n",
      " [ 0.37366796 -0.08648047  1.41607398 -0.46579491]\n",
      " [-0.71813175  0.35802935 -0.04526524 -1.4418784 ]\n",
      " [-0.16605946 -0.95135024 -1.48724469  0.48426695]]\n",
      "[[ 2  2 -2 -2]\n",
      " [ 2 -2  2 -2]\n",
      " [-2  2 -2 -2]\n",
      " [-2 -2 -2  2]]\n",
      "[[ 2.          2.         -0.7923747  -0.11191865]\n",
      " [ 2.         -0.08648047  2.         -0.46579491]\n",
      " [-0.71813175  2.         -0.04526524 -1.4418784 ]\n",
      " [-0.16605946 -0.95135024 -1.48724469  2.        ]]\n",
      "\n",
      "----------------\n",
      "[0 1 2 3 4 5 6 7 8 9]\n",
      "[ 0  1  2  3  4 50 60 70 80 90]\n"
     ]
    }
   ],
   "source": [
    "# page 111\n",
    "# Expressing ConditionalLogic as Array Operations\n",
    "\n",
    "x_arry = np.array([1.1, 1.2, 1.3, 1.4, 1.5])\n",
    "y_arry = np.array([2.1, 2.2, 2.3, 2.4, 2.5])\n",
    "\n",
    "print( x_arry > y_arry)\n",
    "cond_array = np.array([True, False, True, False, True])\n",
    "\n",
    "result = np.where(cond_array, x_arry, y_arry)\n",
    "print(result)\n",
    "\n",
    "print('\\n----------------')\n",
    "a = np.random.randn(4,4)\n",
    "print(a)\n",
    "\n",
    "b = np.where(a>0,2,-2)\n",
    "print(b)\n",
    "\n",
    "c = np.where(a>0,2,a)\n",
    "print(c)\n",
    "\n",
    "print('\\n----------------')\n",
    "# more example (from numpy doc)\n",
    "a = np.arange(10)\n",
    "print(a)\n",
    "\n",
    "b = np.where(a < 5, a, 10*a)\n",
    "print(b)\n"
   ]
  },
  {
   "cell_type": "code",
   "execution_count": 80,
   "metadata": {},
   "outputs": [
    {
     "name": "stdout",
     "output_type": "stream",
     "text": [
      "[1 2 3 4 5 6 7 8 9]\n",
      "45\n",
      "5.0\n",
      "2.581988897471611\n",
      "6.666666666666667\n",
      "1\n",
      "9\n",
      "0\n",
      "8\n",
      "[ 1  3  6 10 15 21 28 36 45]\n",
      "[     1      2      6     24    120    720   5040  40320 362880]\n",
      "\n",
      "----------------\n",
      "[[0 1 2 3 4]\n",
      " [5 6 7 8 9]]\n",
      "[ 0  1  3  6 10 15 21 28 36 45]\n",
      "[[ 0  1  2  3  4]\n",
      " [ 5  7  9 11 13]]\n",
      "[[ 0  1  3  6 10]\n",
      " [ 5 11 18 26 35]]\n"
     ]
    }
   ],
   "source": [
    "# page 113 Methematical and Statistical Method\n",
    "# Basic array staticstical method: sum, mean, std, var, min, max, argmin, argmax,cumsum,cumprod\n",
    "\n",
    "a = np.arange(1,10)\n",
    "print(a)\n",
    "\n",
    "print(np.sum(a))\n",
    "print(np.mean(a))\n",
    "print(np.std(a))\n",
    "print(np.var(a))\n",
    "print(np.min(a))\n",
    "print(np.max(a))\n",
    "print(np.argmin(a))\n",
    "print(np.argmax(a))\n",
    "\n",
    "b = np.cumsum(a)\n",
    "print(b)\n",
    "\n",
    "b = np.cumprod(a)\n",
    "print(b)\n",
    "\n",
    "\n",
    "print('\\n----------------')\n",
    "a = np.arange(10).reshape(2,5)\n",
    "print(a)\n",
    "\n",
    "\n",
    "b = np.cumsum(a)\n",
    "print(b)\n",
    "\n",
    "c = a.cumsum(axis=0)\n",
    "print(c)\n",
    "\n",
    "d = a.cumsum(axis=1)\n",
    "print(d)"
   ]
  },
  {
   "cell_type": "code",
   "execution_count": 89,
   "metadata": {},
   "outputs": [
    {
     "name": "stdout",
     "output_type": "stream",
     "text": [
      "[-0.6619414   0.60489144  0.9542167   2.25643676  0.07317701 -0.37358951\n",
      " -0.93837902 -0.17366152 -0.25601954 -1.10071639]\n",
      "[-1.  1.  1.  2.  0. -0. -1. -0. -0. -1.]\n",
      "[False  True  True  True False False False False False False]\n",
      "4\n",
      "True\n",
      "False\n"
     ]
    }
   ],
   "source": [
    "# page 115 Methods for Boolean Arrays\n",
    "\n",
    "a = np.random.randn(10)\n",
    "print(a)\n",
    "\n",
    "b = np.rint(a)\n",
    "print(b)\n",
    "\n",
    "print(b>0.5)\n",
    "c = (a>=0).sum()   # count number of positive value\n",
    "print(c)\n",
    "\n",
    "d = np.array([False, False,  True, False,  True])\n",
    "print(d.any())\n",
    "print(d.all())\n"
   ]
  },
  {
   "cell_type": "code",
   "execution_count": null,
   "metadata": {},
   "outputs": [],
   "source": []
  },
  {
   "cell_type": "code",
   "execution_count": 3,
   "metadata": {},
   "outputs": [
    {
     "name": "stdout",
     "output_type": "stream",
     "text": [
      "[-0.50723935 -1.33535582  0.25797835  1.3594292  -1.10606664]\n",
      "None\n",
      "[-1.33535582 -1.10606664 -0.50723935  0.25797835  1.3594292 ]\n",
      "\n",
      "----------------\n",
      "[[ -8.   1. -20.]\n",
      " [-13.  -3. -11.]]\n",
      "[[-13.  -3. -20.]\n",
      " [ -8.   1. -11.]]\n",
      "[[-20. -13.  -3.]\n",
      " [-11.  -8.   1.]]\n"
     ]
    }
   ],
   "source": [
    "# page 115 Methods for sort\n",
    "\n",
    "a = np.random.randn(5)\n",
    "print(a)\n",
    "\n",
    "b = a.sort()\n",
    "print(b)    # nothing\n",
    "print(a)\n",
    "\n",
    "print('\\n----------------')\n",
    "\n",
    "a = np.random.randn(6).reshape(2,3)\n",
    "a = np.floor( a*10)\n",
    "print(a)\n",
    "\n",
    "a.sort(0)    # for col\n",
    "print(a)\n",
    "\n",
    "a.sort(1)    # for col\n",
    "print(a)"
   ]
  },
  {
   "cell_type": "code",
   "execution_count": 105,
   "metadata": {},
   "outputs": [
    {
     "name": "stdout",
     "output_type": "stream",
     "text": [
      "['Joe' 'Bill' 'Bob' 'Joe' 'Will' 'Bob']\n",
      "\n",
      "----------------\n",
      "['Bill' 'Bob' 'Joe' 'Will']\n",
      "\n",
      "----------------\n",
      "{'Bob', 'Joe', 'Will', 'Bill'}\n",
      "['Joe' 'Bill' 'Bob' 'Joe' 'Will' 'Bob']\n",
      "['Bill', 'Bob', 'Joe', 'Will']\n"
     ]
    }
   ],
   "source": [
    "# Page 116 Unique and set logic\n",
    "\n",
    "names = np.array(['Joe', 'Bill', 'Bob','Joe', 'Will','Bob'])\n",
    "print(names)\n",
    "\n",
    "print('\\n----------------')\n",
    "some_names= np.unique(names)   # Compute the sorted, unique element\n",
    "print(some_names)              # already sorted\n",
    "\n",
    "\n",
    "print('\\n----------------')\n",
    "# vs. pure Python\n",
    "print(set(names))\n",
    "print(names)    # notice names no change\n",
    "\n",
    "name_list = sorted (set(names))   # numpy    name_list.sort()\n",
    "print(name_list)\n",
    "\n",
    "# Page 117: Array set operations: unique(x), intersect1d(x,y), union1d(x, y), in1d(x,y)\n",
    "# vs.\n",
    "# page 66 Paython set operations a.add(x), a.union(b), a.intersection(b), a.difference(b)"
   ]
  },
  {
   "cell_type": "code",
   "execution_count": 108,
   "metadata": {},
   "outputs": [
    {
     "name": "stdout",
     "output_type": "stream",
     "text": [
      "[0 1 2 3 4 5 6 7 8 9]\n",
      "[0 1 2 3 4 5 6 7 8 9]\n"
     ]
    }
   ],
   "source": [
    "# Page 117\n",
    "# 4.4 File Input and Output with Arrays\n",
    "# np.save, np.load\n",
    "\n",
    "arry = np.arange(10)\n",
    "print(arry)\n",
    "\n",
    "np.save('array_file', arry)\n",
    "\n",
    "b_array = np.load('array_file.npy')\n",
    "print(b_array)"
   ]
  },
  {
   "cell_type": "code",
   "execution_count": 9,
   "metadata": {},
   "outputs": [
    {
     "name": "stdout",
     "output_type": "stream",
     "text": [
      "[ 4 10 18]\n",
      "32\n",
      "32\n"
     ]
    }
   ],
   "source": [
    "x = np.array([1, 2,3])\n",
    "y = np.array([4, 5,6])\n",
    "\n",
    "\n",
    "z1 = x *y\n",
    "print(z1)\n",
    "\n",
    "z2 = x.dot(y)\n",
    "print(z2)\n",
    "\n",
    "z3 = np.dot(x,y)\n",
    "print(z3)"
   ]
  },
  {
   "cell_type": "code",
   "execution_count": 110,
   "metadata": {},
   "outputs": [
    {
     "name": "stdout",
     "output_type": "stream",
     "text": [
      "[[1 2 3]\n",
      " [4 5 6]]\n",
      "[[1 2]\n",
      " [3 4]\n",
      " [5 6]]\n",
      "[[22 28]\n",
      " [49 64]]\n",
      "[[22 28]\n",
      " [49 64]]\n"
     ]
    }
   ],
   "source": [
    "# page 118\n",
    "# 4.5 Linear Algebra\n",
    "\n",
    "x = np.array([[1, 2,3],[4,5,6]])\n",
    "y = np.array([[1,2],[3,4],[5,6]])\n",
    "print(x)\n",
    "print(y)\n",
    "\n",
    "# dot operation\n",
    "z = x.dot(y)\n",
    "print(z)\n",
    "# vs.\n",
    "z = np.dot(x, y)\n",
    "print(z)"
   ]
  },
  {
   "cell_type": "code",
   "execution_count": 112,
   "metadata": {},
   "outputs": [
    {
     "name": "stdout",
     "output_type": "stream",
     "text": [
      "[[ 0.54909395  0.57854507  1.6876006  -0.3265097 ]\n",
      " [-0.86662744 -0.97613529 -0.51792765  0.34814052]\n",
      " [-0.75834051  1.2008253  -0.3054673   0.33917216]\n",
      " [-1.82002098  1.04618108  0.0626023   0.65570191]]\n"
     ]
    }
   ],
   "source": [
    "# Page 120\n",
    "# 4.6 numpy.random vs. Paython random, more efficient\n",
    "# Table 4-8 : seed, permutation, shuffle, rand, randint, randn, binomial, normal\n",
    "\n",
    "sample = np.random.normal(size=(4,4))\n",
    "print(sample)"
   ]
  },
  {
   "cell_type": "code",
   "execution_count": 119,
   "metadata": {},
   "outputs": [
    {
     "name": "stdout",
     "output_type": "stream",
     "text": [
      "[0 1 1 1 0 1 0 0 0 1 1 0 0 1 1 0 1 0 1 1 0 0 0 1 1 1 1 1 0 1 1 1 0 1 0 0 0\n",
      " 0 1 0 1 1 0 1 1 0 1 0 0 1 1 0 1 0 0 1 1 1 1 0 0 1 0 0 1 0 1 0 0 0 1 0 1 0\n",
      " 1 1 0 1 0 1 0 0 1 0 0 0 1 0 1 0 1 0 1 1 0 0 1 0 1 1]\n",
      "[-1  1  1  1 -1  1 -1 -1 -1  1  1 -1 -1  1  1 -1  1 -1  1  1 -1 -1 -1  1\n",
      "  1  1  1  1 -1  1  1  1 -1  1 -1 -1 -1 -1  1 -1  1  1 -1  1  1 -1  1 -1\n",
      " -1  1  1 -1  1 -1 -1  1  1  1  1 -1 -1  1 -1 -1  1 -1  1 -1 -1 -1  1 -1\n",
      "  1 -1  1  1 -1  1 -1  1 -1 -1  1 -1 -1 -1  1 -1  1 -1  1 -1  1  1 -1 -1\n",
      "  1 -1  1  1]\n"
     ]
    },
    {
     "data": {
      "image/png": "[encoded data removed]",
      "text/plain": [
       "<Figure size 432x288 with 1 Axes>"
      ]
     },
     "metadata": {
      "needs_background": "light"
     },
     "output_type": "display_data"
    }
   ],
   "source": [
    "# Page 121\n",
    "# 4.7 Example: Random walks\n",
    "# Use pure Python\n",
    "\n",
    "import random\n",
    "position = 0\n",
    "walk = [position]\n",
    "steps =1000\n",
    "for i in range(steps):\n",
    "    step = 1 if random.randint(0,1) else -1\n",
    "    position +=step\n",
    "    walk.append(position)\n",
    "\n",
    "plt.plot(walk[:200])\n",
    "\n",
    "# vs. np.rand\n",
    "nsteps = 100\n",
    "draws = np.random.randint(0, 2, size = nsteps)\n",
    "print(draws)\n",
    "\n",
    "steps = np.where(draws>0, 1, -1)\n",
    "print(steps)"
   ]
  }
 ],
 "metadata": {
  "kernelspec": {
   "display_name": "Python 3",
   "language": "python",
   "name": "python3"
  },
  "language_info": {
   "codemirror_mode": {
    "name": "ipython",
    "version": 3
   },
   "file_extension": ".py",
   "mimetype": "text/x-python",
   "name": "python",
   "nbconvert_exporter": "python",
   "pygments_lexer": "ipython3",
   "version": "3.7.3"
  }
 },
 "nbformat": 4,
 "nbformat_minor": 2
}
